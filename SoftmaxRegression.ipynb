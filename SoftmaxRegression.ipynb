{
 "cells": [
  {
   "cell_type": "markdown",
   "metadata": {
    "id": "55o5z4721pd1"
   },
   "source": [
    "## NewsGroup20"
   ]
  },
  {
   "cell_type": "code",
   "execution_count": null,
   "metadata": {
    "colab": {
     "base_uri": "https://localhost:8080/"
    },
    "executionInfo": {
     "elapsed": 17001,
     "status": "ok",
     "timestamp": 1646702424050,
     "user": {
      "displayName": "Cristina Penadillo",
      "photoUrl": "https://lh3.googleusercontent.com/a-/AOh14GhsCHRwWiwBReE-eUWsBMT05NmeCXkZunasdiIGhw=s64",
      "userId": "12204698666772184464"
     },
     "user_tz": 300
    },
    "id": "nRK_Ip5kPbBO",
    "outputId": "2dd8c72e-7bc4-4300-904b-875d47a7f90c"
   },
   "outputs": [
    {
     "name": "stdout",
     "output_type": "stream",
     "text": [
      "(11314, 101320)\n",
      "(11314, 101320)\n"
     ]
    }
   ],
   "source": [
    "import numpy as np\n",
    "import math\n",
    "import pandas as pd\n",
    "import itertools\n",
    "import matplotlib.pyplot as plt\n",
    "from sklearn import datasets\n",
    "from sklearn.datasets import fetch_20newsgroups\n",
    "from sklearn.feature_extraction.text import CountVectorizer\n",
    "from pprint import pprint\n",
    "from sklearn.feature_extraction.text import TfidfVectorizer\n",
    "\n",
    "categories = ['alt.atheism',\n",
    " 'comp.graphics',\n",
    " 'comp.os.ms-windows.misc',\n",
    " 'comp.sys.ibm.pc.hardware',\n",
    " 'comp.sys.mac.hardware',\n",
    " 'comp.windows.x',\n",
    " 'misc.forsale',\n",
    " 'rec.autos',\n",
    " 'rec.motorcycles',\n",
    " 'rec.sport.baseball',\n",
    " 'rec.sport.hockey',\n",
    " 'sci.crypt',\n",
    " 'sci.electronics',\n",
    " 'sci.med',\n",
    " 'sci.space',\n",
    " 'soc.religion.christian',\n",
    " 'talk.politics.guns',\n",
    " 'talk.politics.mideast',\n",
    " 'talk.politics.misc',\n",
    " 'talk.religion.misc']\n",
    "\n",
    "x, y  = fetch_20newsgroups(remove=('headers', 'footers', 'quotes'), return_X_y=True, random_state=42)\n",
    "\n",
    "#VECTORIZATION\n",
    "#COUNT\n",
    "vectorizer_count = CountVectorizer(stop_words='english', strip_accents='ascii')\n",
    "count_newsgroup_x = vectorizer_count.fit_transform(x)\n",
    "words_as_features_count = vectorizer_count.get_feature_names_out()\n",
    "\n",
    "#TFID\n",
    "#vectorize to make each word a feature\n",
    "vectorizer_tfid = TfidfVectorizer(stop_words='english', strip_accents='ascii')\n",
    "tfid_newsgroup_x = vectorizer_tfid.fit_transform(x)\n",
    "words_as_features_tfid = vectorizer_tfid.get_feature_names_out()\n",
    "\n",
    "#TEST TRAIN SPLIT\n",
    "TRAIN_PERCENTAGE = 80 \n",
    "#Count Data\n",
    "num_instances_count = count_newsgroup_x.shape[0]\n",
    "splitIndex = math.floor(num_instances_count*(TRAIN_PERCENTAGE/100))\n",
    "count_newsgroup_x_train, count_newsgroup_x_test = count_newsgroup_x[:splitIndex], count_newsgroup_x[splitIndex:]\n",
    "count_newsgroup_y_train, count_newsgroup_y_test = y[:splitIndex], y[splitIndex:]\n",
    "\n",
    "#Tfid Data\n",
    "num_instances_tfid = tfid_newsgroup_x.shape[0]\n",
    "splitIndex = math.floor(num_instances_tfid*(TRAIN_PERCENTAGE/100))\n",
    "tfid_newsgroup_x_train, tfid_newsgroup_x_test = tfid_newsgroup_x[:splitIndex], tfid_newsgroup_x[splitIndex:]\n",
    "tfid_newsgroup_y_train, tfid_newsgroup_y_test = y[:splitIndex], y[splitIndex:]"
   ]
  },
  {
   "cell_type": "markdown",
   "metadata": {
    "id": "eymutc-wItfd"
   },
   "source": [
    "# Sentiment 140 Dataset\n"
   ]
  },
  {
   "cell_type": "code",
   "execution_count": null,
   "metadata": {
    "colab": {
     "base_uri": "https://localhost:8080/"
    },
    "executionInfo": {
     "elapsed": 517,
     "status": "ok",
     "timestamp": 1646703364021,
     "user": {
      "displayName": "Cristina Penadillo",
      "photoUrl": "https://lh3.googleusercontent.com/a-/AOh14GhsCHRwWiwBReE-eUWsBMT05NmeCXkZunasdiIGhw=s64",
      "userId": "12204698666772184464"
     },
     "user_tz": 300
    },
    "id": "Pc_YIZHPItBQ",
    "outputId": "9acaaa68-6a0b-49a6-97ff-3899c8581d9c"
   },
   "outputs": [
    {
     "name": "stdout",
     "output_type": "stream",
     "text": [
      "(100000, 93761)\n",
      "(100000,)\n",
      "(358, 93761)\n",
      "(358,)\n",
      "(100000, 93761)\n",
      "(100000,)\n",
      "(358, 93761)\n",
      "(358,)\n"
     ]
    }
   ],
   "source": [
    "import numpy as np\n",
    "from google.colab import files\n",
    "import scipy\n",
    "from scipy import sparse\n",
    "\n",
    "#uncomment for prompt to uploadfile\n",
    "#uploaded = files.upload()\n",
    "\n",
    "#COUNT VECTORIZED\n",
    "count_sentiment_x_train = scipy.sparse.load_npz(file = '/content/count_sentiment_x_train.npz')\n",
    "count_sentiment_y_train = np.load(file = '/content/count_sentiment_y_train.npy')\n",
    "count_sentiment_x_test = scipy.sparse.load_npz(file = '/content/count_sentiment_x_test.npz')\n",
    "count_sentiment_y_test = np.load(file = '/content/count_sentiment_y_test.npy')\n",
    "count_sentiment = (count_sentiment_x_train,  count_sentiment_y_train, count_sentiment_x_test, count_sentiment_y_test)\n",
    "\n",
    "#TFID\n",
    "tfid_sentiment_x_train = scipy.sparse.load_npz(file = '/content/tfid_sentiment_x_train.npz')\n",
    "tfid_sentiment_y_train = np.load(file = '/content/tfid_sentiment_y_train.npy')\n",
    "tfid_sentiment_x_test = scipy.sparse.load_npz(file = '/content/tfid_sentiment_x_test.npz')\n",
    "tfid_sentiment_y_test = np.load(file = '/content/tfid_sentiment_y_test.npy')\n",
    "tfid_sentiment = (tfid_sentiment_x_train, tfid_sentiment_y_train, tfid_sentiment_x_test, tfid_sentiment_y_test)"
   ]
  },
  {
   "cell_type": "code",
   "execution_count": null,
   "metadata": {
    "colab": {
     "base_uri": "https://localhost:8080/"
    },
    "executionInfo": {
     "elapsed": 11777,
     "status": "ok",
     "timestamp": 1646703379675,
     "user": {
      "displayName": "Cristina Penadillo",
      "photoUrl": "https://lh3.googleusercontent.com/a-/AOh14GhsCHRwWiwBReE-eUWsBMT05NmeCXkZunasdiIGhw=s64",
      "userId": "12204698666772184464"
     },
     "user_tz": 300
    },
    "id": "GI-m-QHUg-or",
    "outputId": "1454857c-8e74-4af0-d4cf-bc70b803dc9d"
   },
   "outputs": [
    {
     "name": "stdout",
     "output_type": "stream",
     "text": [
      "4    50001\n",
      "0    49999\n",
      "Name: target, dtype: int64\n",
      "4    181\n",
      "0    177\n",
      "Name: target, dtype: int64\n"
     ]
    },
    {
     "name": "stderr",
     "output_type": "stream",
     "text": [
      "/usr/local/lib/python3.7/dist-packages/sklearn/feature_extraction/text.py:1323: UserWarning: Upper case characters found in vocabulary while 'lowercase' is True. These entries will not be matched with any documents\n",
      "  \"Upper case characters found in\"\n",
      "/usr/local/lib/python3.7/dist-packages/sklearn/feature_extraction/text.py:1323: UserWarning: Upper case characters found in vocabulary while 'lowercase' is True. These entries will not be matched with any documents\n",
      "  \"Upper case characters found in\"\n"
     ]
    }
   ],
   "source": [
    "import numpy as np\n",
    "from numpy import genfromtxt\n",
    "import math\n",
    "from google.colab import files\n",
    "import pandas as pd\n",
    "import itertools\n",
    "import scipy\n",
    "import matplotlib.pyplot as plt\n",
    "from sklearn import datasets\n",
    "from sklearn.datasets import fetch_20newsgroups\n",
    "from sklearn.feature_extraction.text import CountVectorizer\n",
    "from pprint import pprint\n",
    "from sklearn.feature_extraction.text import TfidfVectorizer\n",
    "from io import StringIO\n",
    "from sklearn.decomposition import PCA\n",
    "from sklearn.decomposition import SparsePCA\n",
    "import requests\n",
    "from io import StringIO\n",
    "import random\n",
    "import sys\n",
    "import csv\n",
    "from random import shuffle\n",
    "\n",
    "#load the csv into a pandas dataframe, attributes are not labelled columns (target is the class or label), shuffle\n",
    "#train\n",
    "sentiment_onefourty_train = pd.read_csv('sentiment_train.csv', header= 0, delimiter=\",\", nrows=100000,encoding_errors='ignore', usecols=[0,5],skiprows=([i for i in range(0, 750000)] + [j for j in range(950000, 1600000)]))\n",
    "sentiment_onefourty_train.columns=['target', 'text']\n",
    "print(sentiment_onefourty_train['target'].value_counts())\n",
    "#test\n",
    "sentiment_onefourty_test = pd.read_csv('sentiment_test.csv', header= 0, delimiter=\",\", nrows=30000, encoding_errors='ignore', usecols=[0,5])\n",
    "sentiment_onefourty_test.columns=['target', 'text']\n",
    "print(sentiment_onefourty_test['target'].value_counts())\n",
    "\n",
    "#shuffle\n",
    "sentiment_onefourty_train = sentiment_onefourty_train.sample(frac=1, random_state = 1234)\n",
    "sentiment_onefourty_test = sentiment_onefourty_test.sample(frac=1, random_state = 1234)\n",
    "\n",
    "#extract the target (class values) to numpy array and convert to 0's and 1's (instead of 0,4)\n",
    "#train\n",
    "sentiment_onefourty_y_train = sentiment_onefourty_train['target'].to_numpy(copy=True)\n",
    "sentiment_onefourty_y_train = np.where(sentiment_onefourty_y_train > 0, 1, sentiment_onefourty_y_train)\n",
    "#test\n",
    "sentiment_onefourty_y_test = sentiment_onefourty_test['target'].to_numpy(copy=True)\n",
    "sentiment_onefourty_y_test = np.where(sentiment_onefourty_y_test > 0, 1, sentiment_onefourty_y_test)\n",
    "#same things but keep naming convetion to avoid confusion\n",
    "tfid_sentiment_y_train = sentiment_onefourty_y_train\n",
    "count_sentiment_y_train = sentiment_onefourty_y_train\n",
    "tfid_sentiment_y_test = sentiment_onefourty_y_test\n",
    "count_sentiment_y_test = sentiment_onefourty_y_test\n",
    "\n",
    "#CREATE COUNT AND TFID VECTORIZED DATA SETS\n",
    "\n",
    "#extract the text arrays from the pandas dataframe 'text' column (for both test and train)\n",
    "sentiment_onefourty_text_train= sentiment_onefourty_train['text'].to_numpy(copy=True)\n",
    "sentiment_onefourty_text_test= sentiment_onefourty_test['text'].to_numpy(copy=True)\n",
    "\n",
    "#Count Vectorizer\n",
    "#train set\n",
    "vectorizer_count_train = CountVectorizer(stop_words='english', strip_accents='ascii') \n",
    "count_sentiment_x_train = vectorizer_count_train.fit_transform(sentiment_onefourty_text_train)\n",
    "words_as_features_count_train = vectorizer_count_train.get_feature_names_out()\n",
    "\n",
    "#test set\n",
    "vectorizer_count_test = CountVectorizer(vocabulary =words_as_features_count_train)\n",
    "count_sentiment_x_test = vectorizer_count_test.fit_transform(sentiment_onefourty_text_test)\n",
    "words_as_features_count_test = vectorizer_count_test.get_feature_names_out()\n",
    "\n",
    "#Tfid vectorizer\n",
    "vectorizer_tfid_train = TfidfVectorizer(stop_words='english', strip_accents='ascii')\n",
    "tfid_sentiment_x_train = vectorizer_tfid_train.fit_transform(sentiment_onefourty_text_train)\n",
    "words_as_features_tfid_train = vectorizer_tfid_train.get_feature_names_out()\n",
    "\n",
    "vectorizer_tfid_test = TfidfVectorizer(vocabulary = words_as_features_tfid_train)\n",
    "tfid_sentiment_x_test = vectorizer_tfid_test.fit_transform(sentiment_onefourty_text_test)\n",
    "words_as_features_tfid_test = vectorizer_tfid_test.get_feature_names_out()\n",
    "\n",
    "#Save files\n",
    "#count vectorized\n",
    "scipy.sparse.save_npz(\"count_sentiment_x_train.npz\", count_sentiment_x_train, compressed=True)\n",
    "scipy.sparse.save_npz(\"count_sentiment_x_test.npz\", count_sentiment_x_test, compressed=True)\n",
    "np.save(\"count_sentiment_y_train.npy\", count_sentiment_y_train, allow_pickle=False)\n",
    "np.save(\"count_sentiment_y_test.npy\", count_sentiment_y_test, allow_pickle=False)\n",
    "\n",
    "#tfid vectorized\n",
    "scipy.sparse.save_npz(\"tfid_sentiment_x_train.npz\", tfid_sentiment_x_train, compressed=True)\n",
    "scipy.sparse.save_npz(\"tfid_sentiment_x_test.npz\", tfid_sentiment_x_test, compressed=True)\n",
    "np.save(\"tfid_sentiment_y_train.npy\", tfid_sentiment_y_train, allow_pickle=False)\n",
    "np.save(f\"tfid_sentiment_y_test.npy\", tfid_sentiment_y_test, allow_pickle=False)"
   ]
  },
  {
   "cell_type": "markdown",
   "metadata": {
    "id": "Tti6c1JVERuE"
   },
   "source": [
    "# Logistic (Softmax) Regression"
   ]
  },
  {
   "cell_type": "code",
   "execution_count": null,
   "metadata": {
    "colab": {
     "base_uri": "https://localhost:8080/"
    },
    "executionInfo": {
     "elapsed": 40498,
     "status": "ok",
     "timestamp": 1646703420163,
     "user": {
      "displayName": "Cristina Penadillo",
      "photoUrl": "https://lh3.googleusercontent.com/a-/AOh14GhsCHRwWiwBReE-eUWsBMT05NmeCXkZunasdiIGhw=s64",
      "userId": "12204698666772184464"
     },
     "user_tz": 300
    },
    "id": "hLIB4gUKF_ox",
    "outputId": "f1fd9ef5-e78f-4169-f676-779ea919043e"
   },
   "outputs": [
    {
     "data": {
      "text/plain": [
       "LogisticRegression()"
      ]
     },
     "execution_count": 5,
     "metadata": {},
     "output_type": "execute_result"
    }
   ],
   "source": [
    "from sklearn.linear_model import LogisticRegression\n",
    "\n",
    "logisticRegr = LogisticRegression()\n",
    "logisticRegr.fit(tfid_newsgroup_x_train, tfid_newsgroup_y_train)"
   ]
  },
  {
   "cell_type": "code",
   "execution_count": null,
   "metadata": {
    "colab": {
     "base_uri": "https://localhost:8080/"
    },
    "executionInfo": {
     "elapsed": 68836,
     "status": "ok",
     "timestamp": 1646703488976,
     "user": {
      "displayName": "Cristina Penadillo",
      "photoUrl": "https://lh3.googleusercontent.com/a-/AOh14GhsCHRwWiwBReE-eUWsBMT05NmeCXkZunasdiIGhw=s64",
      "userId": "12204698666772184464"
     },
     "user_tz": 300
    },
    "id": "3czIY470FfGB",
    "outputId": "21c9741d-bb7e-470c-b5fd-81c37f73cefd"
   },
   "outputs": [
    {
     "data": {
      "text/plain": [
       "LogisticRegression(max_iter=1000)"
      ]
     },
     "execution_count": 6,
     "metadata": {},
     "output_type": "execute_result"
    }
   ],
   "source": [
    "#the dataset is too large (does not converge) so the lower bound of maximum iteration is 1000 to have results\n",
    "logisticRegr2 = LogisticRegression(max_iter=1000)\n",
    "logisticRegr2.fit(count_newsgroup_x_train, count_newsgroup_y_train)"
   ]
  },
  {
   "cell_type": "code",
   "execution_count": null,
   "metadata": {
    "colab": {
     "base_uri": "https://localhost:8080/"
    },
    "executionInfo": {
     "elapsed": 2415,
     "status": "ok",
     "timestamp": 1646703491377,
     "user": {
      "displayName": "Cristina Penadillo",
      "photoUrl": "https://lh3.googleusercontent.com/a-/AOh14GhsCHRwWiwBReE-eUWsBMT05NmeCXkZunasdiIGhw=s64",
      "userId": "12204698666772184464"
     },
     "user_tz": 300
    },
    "id": "InaNc7WtJ0Yu",
    "outputId": "c50cc073-2d31-4ae4-e45f-053b610fca35"
   },
   "outputs": [
    {
     "name": "stderr",
     "output_type": "stream",
     "text": [
      "/usr/local/lib/python3.7/dist-packages/sklearn/linear_model/_logistic.py:1479: UserWarning: l1_ratio parameter is only used when penalty is 'elasticnet'. Got (penalty=l2)\n",
      "  \"(penalty={})\".format(self.penalty)\n"
     ]
    },
    {
     "data": {
      "text/plain": [
       "LogisticRegression(C=0.874, l1_ratio=0.026)"
      ]
     },
     "execution_count": 7,
     "metadata": {},
     "output_type": "execute_result"
    }
   ],
   "source": [
    "logisticRegr3 = LogisticRegression(C = 0.874,penalty='elasticnet',solver='saga',l1_ratio=0.026)\n",
    "logisticRegr3.fit(tfid_sentiment_x_train, tfid_sentiment_y_train)"
   ]
  },
  {
   "cell_type": "code",
   "execution_count": null,
   "metadata": {
    "colab": {
     "base_uri": "https://localhost:8080/"
    },
    "executionInfo": {
     "elapsed": 4979,
     "status": "ok",
     "timestamp": 1646703496349,
     "user": {
      "displayName": "Cristina Penadillo",
      "photoUrl": "https://lh3.googleusercontent.com/a-/AOh14GhsCHRwWiwBReE-eUWsBMT05NmeCXkZunasdiIGhw=s64",
      "userId": "12204698666772184464"
     },
     "user_tz": 300
    },
    "id": "la_G3THiLalK",
    "outputId": "cf49ea5a-300a-452f-e123-17faf6bccbcb"
   },
   "outputs": [
    {
     "name": "stderr",
     "output_type": "stream",
     "text": [
      "/usr/local/lib/python3.7/dist-packages/sklearn/linear_model/_logistic.py:1479: UserWarning: l1_ratio parameter is only used when penalty is 'elasticnet'. Got (penalty=l2)\n",
      "  \"(penalty={})\".format(self.penalty)\n",
      "/usr/local/lib/python3.7/dist-packages/sklearn/linear_model/_logistic.py:818: ConvergenceWarning: lbfgs failed to converge (status=1):\n",
      "STOP: TOTAL NO. of ITERATIONS REACHED LIMIT.\n",
      "\n",
      "Increase the number of iterations (max_iter) or scale the data as shown in:\n",
      "    https://scikit-learn.org/stable/modules/preprocessing.html\n",
      "Please also refer to the documentation for alternative solver options:\n",
      "    https://scikit-learn.org/stable/modules/linear_model.html#logistic-regression\n",
      "  extra_warning_msg=_LOGISTIC_SOLVER_CONVERGENCE_MSG,\n"
     ]
    },
    {
     "data": {
      "text/plain": [
       "LogisticRegression(C=0.69, l1_ratio=0.7)"
      ]
     },
     "execution_count": 8,
     "metadata": {},
     "output_type": "execute_result"
    }
   ],
   "source": [
    "logisticRegr4 = LogisticRegression(C = 0.69, penalty='elasticnet', max_iter = 1000, n_jobs=-1, l1_ratio=0.7)\n",
    "logisticRegr4.fit(count_sentiment_x_train, count_sentiment_y_train)"
   ]
  },
  {
   "cell_type": "code",
   "execution_count": null,
   "metadata": {
    "id": "drL-vbkhNfhN"
   },
   "outputs": [],
   "source": [
    "twentygroup_predictions = logisticRegr.predict(tfid_newsgroup_x_test)\n",
    "twentygroup_predictions2 = logisticRegr2.predict(count_newsgroup_x_test)\n",
    "sentiment_predictions = logisticRegr3.predict(tfid_sentiment_x_test)\n",
    "sentiment_predictions2 = logisticRegr4.predict(count_sentiment_x_test)"
   ]
  },
  {
   "cell_type": "markdown",
   "metadata": {
    "id": "qXpcopOXRiGe"
   },
   "source": [
    "Measuring Model Performance"
   ]
  },
  {
   "cell_type": "code",
   "execution_count": null,
   "metadata": {
    "id": "-wAhxeDkRSbN"
   },
   "outputs": [],
   "source": [
    "twentygroup_score=logisticRegr.score(tfid_newsgroup_x_test, tfid_newsgroup_y_test)\n",
    "twentygroup_score2=logisticRegr2.score(count_newsgroup_x_test, count_newsgroup_y_test)\n",
    "sentiment_score=logisticRegr3.score(tfid_sentiment_x_test, tfid_sentiment_y_test)\n",
    "sentiment_score2=logisticRegr4.score(count_sentiment_x_test, count_sentiment_y_test)"
   ]
  },
  {
   "cell_type": "code",
   "execution_count": null,
   "metadata": {
    "colab": {
     "base_uri": "https://localhost:8080/"
    },
    "executionInfo": {
     "elapsed": 12,
     "status": "ok",
     "timestamp": 1646703496494,
     "user": {
      "displayName": "Cristina Penadillo",
      "photoUrl": "https://lh3.googleusercontent.com/a-/AOh14GhsCHRwWiwBReE-eUWsBMT05NmeCXkZunasdiIGhw=s64",
      "userId": "12204698666772184464"
     },
     "user_tz": 300
    },
    "id": "MyRb4H1FZEui",
    "outputId": "9e884176-a7a9-4b33-d304-f33c053c8acf"
   },
   "outputs": [
    {
     "name": "stdout",
     "output_type": "stream",
     "text": [
      "Accuracy Score for tfid vectorization in 20newsgroup dataset: 0.7379584622182943\n",
      "              precision    recall  f1-score   support\n",
      "\n",
      "           0       0.68      0.64      0.66       102\n",
      "           1       0.70      0.66      0.68       118\n",
      "           2       0.66      0.75      0.71       118\n",
      "           3       0.72      0.65      0.68       109\n",
      "           4       0.82      0.75      0.78       102\n",
      "           5       0.83      0.75      0.79       101\n",
      "           6       0.77      0.77      0.77       115\n",
      "           7       0.77      0.76      0.77       117\n",
      "           8       0.47      0.80      0.59       108\n",
      "           9       0.70      0.83      0.76       116\n",
      "          10       0.89      0.82      0.85       125\n",
      "          11       0.89      0.73      0.80       121\n",
      "          12       0.64      0.73      0.68       119\n",
      "          13       0.76      0.88      0.81       117\n",
      "          14       0.85      0.75      0.80       140\n",
      "          15       0.65      0.88      0.74       120\n",
      "          16       0.78      0.76      0.77       112\n",
      "          17       0.95      0.81      0.88       108\n",
      "          18       0.81      0.67      0.73       111\n",
      "          19       0.85      0.20      0.33        84\n",
      "\n",
      "    accuracy                           0.74      2263\n",
      "   macro avg       0.76      0.73      0.73      2263\n",
      "weighted avg       0.76      0.74      0.74      2263\n",
      "\n",
      "Accuracy Score for count vectorization in 20newsgroup dataset: 0.6809544851966416\n",
      "              precision    recall  f1-score   support\n",
      "\n",
      "           0       0.59      0.66      0.62       102\n",
      "           1       0.69      0.63      0.66       118\n",
      "           2       0.63      0.73      0.67       118\n",
      "           3       0.66      0.66      0.66       109\n",
      "           4       0.64      0.73      0.68       102\n",
      "           5       0.80      0.66      0.72       101\n",
      "           6       0.74      0.74      0.74       115\n",
      "           7       0.65      0.69      0.67       117\n",
      "           8       0.62      0.65      0.63       108\n",
      "           9       0.47      0.84      0.60       116\n",
      "          10       0.81      0.74      0.77       125\n",
      "          11       0.81      0.71      0.76       121\n",
      "          12       0.65      0.66      0.66       119\n",
      "          13       0.79      0.79      0.79       117\n",
      "          14       0.78      0.66      0.71       140\n",
      "          15       0.67      0.72      0.69       120\n",
      "          16       0.75      0.63      0.69       112\n",
      "          17       0.80      0.71      0.75       108\n",
      "          18       0.73      0.55      0.63       111\n",
      "          19       0.53      0.36      0.43        84\n",
      "\n",
      "    accuracy                           0.68      2263\n",
      "   macro avg       0.69      0.68      0.68      2263\n",
      "weighted avg       0.69      0.68      0.68      2263\n",
      "\n",
      "Accuracy Score for tfid vectorization in sentiment140 dataset: 0.7877094972067039\n",
      "              precision    recall  f1-score   support\n",
      "\n",
      "           0       0.80      0.77      0.78       177\n",
      "           1       0.78      0.81      0.79       181\n",
      "\n",
      "    accuracy                           0.79       358\n",
      "   macro avg       0.79      0.79      0.79       358\n",
      "weighted avg       0.79      0.79      0.79       358\n",
      "\n",
      "Accuracy Score for count vectorization in sentiment140 dataset: 0.7960893854748603\n",
      "              precision    recall  f1-score   support\n",
      "\n",
      "           0       0.81      0.77      0.79       177\n",
      "           1       0.79      0.82      0.80       181\n",
      "\n",
      "    accuracy                           0.80       358\n",
      "   macro avg       0.80      0.80      0.80       358\n",
      "weighted avg       0.80      0.80      0.80       358\n",
      "\n"
     ]
    }
   ],
   "source": [
    "from sklearn.metrics import precision_score\n",
    "from sklearn.metrics import classification_report\n",
    "from sklearn import metrics\n",
    "\n",
    "print('Accuracy Score for tfid vectorization in 20newsgroup dataset:', metrics.accuracy_score(tfid_newsgroup_y_test, twentygroup_predictions)) \n",
    "class_report=classification_report(tfid_newsgroup_y_test, twentygroup_predictions)\n",
    "print(class_report)\n",
    "\n",
    "print('Accuracy Score for count vectorization in 20newsgroup dataset:', metrics.accuracy_score(count_newsgroup_y_test, twentygroup_predictions2)) \n",
    "class_report2=classification_report(count_newsgroup_y_test, twentygroup_predictions2)\n",
    "print(class_report2)\n",
    "\n",
    "print('Accuracy Score for tfid vectorization in sentiment140 dataset:', metrics.accuracy_score(tfid_sentiment_y_test, sentiment_predictions)) \n",
    "class_report3=classification_report(tfid_sentiment_y_test, sentiment_predictions)\n",
    "print(class_report3)\n",
    "\n",
    "print('Accuracy Score for count vectorization in sentiment140 dataset:', metrics.accuracy_score(count_sentiment_y_test, sentiment_predictions2)) \n",
    "class_report4=classification_report(count_sentiment_y_test, sentiment_predictions2)\n",
    "print(class_report4)\n",
    "\n",
    "sentiment_precision=precision_score(tfid_sentiment_y_test, sentiment_predictions)\n",
    "sentiment_precision2=precision_score(count_sentiment_y_test, sentiment_predictions2)"
   ]
  },
  {
   "cell_type": "markdown",
   "metadata": {
    "id": "VFCb_VZLSAcR"
   },
   "source": [
    "#Confusion Matrix"
   ]
  },
  {
   "cell_type": "code",
   "execution_count": null,
   "metadata": {
    "colab": {
     "base_uri": "https://localhost:8080/"
    },
    "executionInfo": {
     "elapsed": 110,
     "status": "ok",
     "timestamp": 1646703496595,
     "user": {
      "displayName": "Cristina Penadillo",
      "photoUrl": "https://lh3.googleusercontent.com/a-/AOh14GhsCHRwWiwBReE-eUWsBMT05NmeCXkZunasdiIGhw=s64",
      "userId": "12204698666772184464"
     },
     "user_tz": 300
    },
    "id": "KL53KCn7R4bQ",
    "outputId": "22e65366-61f6-45a5-f546-778061e37cca"
   },
   "outputs": [
    {
     "data": {
      "text/plain": [
       "(358,)"
      ]
     },
     "execution_count": 12,
     "metadata": {},
     "output_type": "execute_result"
    }
   ],
   "source": [
    "import seaborn as sns\n",
    "\n",
    "twentygroup_cm=metrics.confusion_matrix(tfid_newsgroup_y_test, twentygroup_predictions)\n",
    "twentygroup_cm2=metrics.confusion_matrix(count_newsgroup_y_test, twentygroup_predictions2)\n",
    "sentiment_cm=metrics.confusion_matrix(tfid_sentiment_y_test, sentiment_predictions)\n",
    "sentiment_cm2=metrics.confusion_matrix(count_sentiment_y_test, sentiment_predictions2)"
   ]
  },
  {
   "cell_type": "code",
   "execution_count": null,
   "metadata": {
    "colab": {
     "base_uri": "https://localhost:8080/",
     "height": 526
    },
    "executionInfo": {
     "elapsed": 2155,
     "status": "ok",
     "timestamp": 1646703498742,
     "user": {
      "displayName": "Cristina Penadillo",
      "photoUrl": "https://lh3.googleusercontent.com/a-/AOh14GhsCHRwWiwBReE-eUWsBMT05NmeCXkZunasdiIGhw=s64",
      "userId": "12204698666772184464"
     },
     "user_tz": 300
    },
    "id": "sZQoxSDDSYYX",
    "outputId": "0b4b225e-53c3-4e36-f13e-e1dbf7b35abb"
   },
   "outputs": [
    {
     "data": {
      "image/png": "[encoded data removed]",
      "text/plain": [
       "<Figure size 648x648 with 2 Axes>"
      ]
     },
     "metadata": {
      "needs_background": "light"
     },
     "output_type": "display_data"
    }
   ],
   "source": [
    "plt.figure(figsize=(9,9))\n",
    "sns.heatmap(twentygroup_cm, annot=True, fmt=\".0f\", linewidths=.5, square = True, cmap = 'Blues_r');\n",
    "plt.ylabel('Actual label');\n",
    "plt.xlabel('Predicted label');\n",
    "all_sample_title = 'Accuracy Score for tfid: {0}'.format(twentygroup_score)\n",
    "plt.title(all_sample_title, size = 15);\n",
    "plt.savefig('20newsgroup.png')"
   ]
  },
  {
   "cell_type": "code",
   "execution_count": null,
   "metadata": {
    "colab": {
     "base_uri": "https://localhost:8080/",
     "height": 526
    },
    "executionInfo": {
     "elapsed": 1980,
     "status": "ok",
     "timestamp": 1646703500710,
     "user": {
      "displayName": "Cristina Penadillo",
      "photoUrl": "https://lh3.googleusercontent.com/a-/AOh14GhsCHRwWiwBReE-eUWsBMT05NmeCXkZunasdiIGhw=s64",
      "userId": "12204698666772184464"
     },
     "user_tz": 300
    },
    "id": "ybhxY5VcFImK",
    "outputId": "6c9b83fe-aa58-4439-9721-aa0516663fc5"
   },
   "outputs": [
    {
     "data": {
      "image/png": "[encoded data removed]",
      "text/plain": [
       "<Figure size 648x648 with 2 Axes>"
      ]
     },
     "metadata": {
      "needs_background": "light"
     },
     "output_type": "display_data"
    }
   ],
   "source": [
    "plt.figure(figsize=(9,9))\n",
    "sns.heatmap(twentygroup_cm2, annot=True, fmt=\".0f\", linewidths=.5, square = True, cmap = 'Reds_r');\n",
    "plt.ylabel('Actual label');\n",
    "plt.xlabel('Predicted label');\n",
    "all_sample_title = 'Accuracy Score for count: {0}'.format(twentygroup_score2)\n",
    "plt.title(all_sample_title, size = 15);\n",
    "plt.savefig('20newsgroup2.png')"
   ]
  },
  {
   "cell_type": "code",
   "execution_count": null,
   "metadata": {
    "colab": {
     "base_uri": "https://localhost:8080/",
     "height": 340
    },
    "executionInfo": {
     "elapsed": 1733,
     "status": "ok",
     "timestamp": 1646703502426,
     "user": {
      "displayName": "Cristina Penadillo",
      "photoUrl": "https://lh3.googleusercontent.com/a-/AOh14GhsCHRwWiwBReE-eUWsBMT05NmeCXkZunasdiIGhw=s64",
      "userId": "12204698666772184464"
     },
     "user_tz": 300
    },
    "id": "QVGBn7cVGnfA",
    "outputId": "3f9c6684-4885-4439-dbf6-bdffd5935dd8"
   },
   "outputs": [
    {
     "data": {
      "text/plain": [
       "Text(0.5, 1.0, '140 sentiment confusion Matrix for tfid ')"
      ]
     },
     "execution_count": 15,
     "metadata": {},
     "output_type": "execute_result"
    },
    {
     "data": {
      "image/png": "[encoded data removed]",
      "text/plain": [
       "<Figure size 432x288 with 2 Axes>"
      ]
     },
     "metadata": {
      "needs_background": "light"
     },
     "output_type": "display_data"
    }
   ],
   "source": [
    "categories = ['Negative','Positive']\n",
    "group_names = ['True Neg','False Pos', 'False Neg','True Pos']\n",
    "group_percentages = ['\\n{0:.2%}'.format(value) for value in sentiment_cm.flatten() / np.sum(sentiment_cm)]\n",
    "labels = [f'{v1}n{v2}' for v1, v2 in zip(group_names,group_percentages)]\n",
    "labels = np.asarray(labels).reshape(2,2)\n",
    "sns.heatmap(sentiment_cm, annot = labels, cmap = 'Blues',fmt = '',\n",
    "xticklabels = categories, yticklabels = categories)\n",
    "plt.xlabel(\"Predicted values\", fontdict = {'size':14}, labelpad = 10)\n",
    "plt.ylabel(\"Actual values\" , fontdict = {'size':14}, labelpad = 10)\n",
    "plt.title (\"140 sentiment confusion Matrix for tfid \", fontdict = {'size':18}, pad = 20)"
   ]
  },
  {
   "cell_type": "code",
   "execution_count": null,
   "metadata": {
    "colab": {
     "base_uri": "https://localhost:8080/",
     "height": 340
    },
    "executionInfo": {
     "elapsed": 317,
     "status": "ok",
     "timestamp": 1646703502729,
     "user": {
      "displayName": "Cristina Penadillo",
      "photoUrl": "https://lh3.googleusercontent.com/a-/AOh14GhsCHRwWiwBReE-eUWsBMT05NmeCXkZunasdiIGhw=s64",
      "userId": "12204698666772184464"
     },
     "user_tz": 300
    },
    "id": "sXjKW7LC2mzu",
    "outputId": "c380772f-a895-4854-8714-1e850eaf3d0f"
   },
   "outputs": [
    {
     "data": {
      "text/plain": [
       "Text(0.5, 1.0, '140 sentiment confusion Matrix for count')"
      ]
     },
     "execution_count": 16,
     "metadata": {},
     "output_type": "execute_result"
    },
    {
     "data": {
      "image/png": "[encoded data removed]",
      "text/plain": [
       "<Figure size 432x288 with 2 Axes>"
      ]
     },
     "metadata": {
      "needs_background": "light"
     },
     "output_type": "display_data"
    }
   ],
   "source": [
    "categories = ['Negative','Positive']\n",
    "group_names = ['True Neg','False Pos', 'False Neg','True Pos']\n",
    "group_percentages = ['\\n{0:.2%}'.format(value) for value in sentiment_cm2.flatten() / np.sum(sentiment_cm2)]\n",
    "labels = [f'{v1}n{v2}' for v1, v2 in zip(group_names,group_percentages)]\n",
    "labels = np.asarray(labels).reshape(2,2)\n",
    "sns.heatmap(sentiment_cm2, annot = labels, cmap = 'Reds',fmt = '',\n",
    "xticklabels = categories, yticklabels = categories)\n",
    "plt.xlabel(\"Predicted values\", fontdict = {'size':14}, labelpad = 10)\n",
    "plt.ylabel(\"Actual values\" , fontdict = {'size':14}, labelpad = 10)\n",
    "plt.title (\"140 sentiment confusion Matrix for count\", fontdict = {'size':18}, pad = 20)"
   ]
  },
  {
   "cell_type": "code",
   "execution_count": null,
   "metadata": {
    "colab": {
     "base_uri": "https://localhost:8080/",
     "height": 295
    },
    "executionInfo": {
     "elapsed": 41,
     "status": "ok",
     "timestamp": 1646703502731,
     "user": {
      "displayName": "Cristina Penadillo",
      "photoUrl": "https://lh3.googleusercontent.com/a-/AOh14GhsCHRwWiwBReE-eUWsBMT05NmeCXkZunasdiIGhw=s64",
      "userId": "12204698666772184464"
     },
     "user_tz": 300
    },
    "id": "_LOYj8GPagwB",
    "outputId": "071e60d4-429f-46d4-c903-c670abc79afc"
   },
   "outputs": [
    {
     "data": {
      "image/png": "[encoded data removed]",
      "text/plain": [
       "<Figure size 432x288 with 1 Axes>"
      ]
     },
     "metadata": {
      "needs_background": "light"
     },
     "output_type": "display_data"
    }
   ],
   "source": [
    "# Plotting the distribution for dataset.\n",
    "ax = sentiment_onefourty_train.groupby('target').count().plot(kind='bar', title='Distribution of data',legend=False)\n",
    "ax.set_xticklabels(['Negative','Positive'], rotation=0)\n",
    "# Storing data in lists.\n",
    "text, sentiment = list(sentiment_onefourty_train['text']), list(sentiment_onefourty_train['target'])"
   ]
  },
  {
   "cell_type": "code",
   "execution_count": null,
   "metadata": {
    "colab": {
     "base_uri": "https://localhost:8080/",
     "height": 295
    },
    "executionInfo": {
     "elapsed": 39,
     "status": "ok",
     "timestamp": 1646703502732,
     "user": {
      "displayName": "Cristina Penadillo",
      "photoUrl": "https://lh3.googleusercontent.com/a-/AOh14GhsCHRwWiwBReE-eUWsBMT05NmeCXkZunasdiIGhw=s64",
      "userId": "12204698666772184464"
     },
     "user_tz": 300
    },
    "id": "-ttT5idZmTUA",
    "outputId": "8f7bca26-e5b7-4529-8ccd-1f1a7139262b"
   },
   "outputs": [
    {
     "data": {
      "image/png": "[encoded data removed]",
      "text/plain": [
       "<Figure size 432x288 with 1 Axes>"
      ]
     },
     "metadata": {
      "needs_background": "light"
     },
     "output_type": "display_data"
    }
   ],
   "source": [
    "# Plotting the distribution for dataset.\n",
    "ax = sentiment_onefourty_test.groupby('target').count().plot(kind='bar', title='Distribution of data',legend=False)\n",
    "ax.set_xticklabels(['Negative','Positive'], rotation=0)\n",
    "# Storing data in lists.\n",
    "text, sentiment = list(sentiment_onefourty_test['text']), list(sentiment_onefourty_test['target'])"
   ]
  },
  {
   "cell_type": "markdown",
   "metadata": {
    "id": "PFcZ6onCR5Sf"
   },
   "source": [
    "# HyperParameter estimation\n",
    "\n",
    "In this section, we use random search for hyperparameter estimation. It finds the good result in relativly less run time comparing with grid search.\n",
    "\n",
    "For Logsitic regression, fine tunning for three hyperparameters, a) C: inverse of regularization strength; b) max_iter: Maximum number of iterations taken for the solvers to converge; c ) L1 ration: The Elastic-Net mixing parameter, float [0,1]."
   ]
  },
  {
   "cell_type": "markdown",
   "metadata": {
    "id": "Yi_ZLLpNg7LH"
   },
   "source": [
    "TFID news group"
   ]
  },
  {
   "cell_type": "code",
   "execution_count": null,
   "metadata": {
    "id": "mDzDl06RRyOY"
   },
   "outputs": [],
   "source": [
    "import numpy as np\n",
    "from time import time\n",
    "import scipy.stats as stats\n",
    "from sklearn.utils.fixes import loguniform\n",
    "from sklearn.model_selection import GridSearchCV, RandomizedSearchCV\n",
    "from sklearn.datasets import load_digits\n",
    "from sklearn.linear_model import SGDClassifier\n",
    "\n",
    "#X, y = load_digits(return_X_y=True, n_class=3)\n",
    "X = tfid_newsgroup_x_train \n",
    "y = tfid_newsgroup_y_train\n",
    "\n",
    "# build a classifier\n",
    "clf = LogisticRegression(C = 0.5,penalty='elasticnet',solver='saga',l1_ratio=0)\n",
    "\n",
    "# Utility function to report best scores\n",
    "def report(results, n_top=3):\n",
    "    for i in range(1, n_top + 1):\n",
    "        candidates = np.flatnonzero(results[\"rank_test_score\"] == i)\n",
    "        for candidate in candidates:\n",
    "            print(\"Model with rank: {0}\".format(i))\n",
    "            print(\n",
    "                \"Mean validation score: {0:.3f} (std: {1:.3f})\".format(\n",
    "                    results[\"mean_test_score\"][candidate],\n",
    "                    results[\"std_test_score\"][candidate],\n",
    "                )\n",
    "            )\n",
    "            print(\"Parameters: {0}\".format(results[\"params\"][candidate]))\n",
    "            print(\"\")\n",
    "\n",
    "def random_search():\n",
    "  print(\"here\")\n",
    "  param_dist = {\n",
    "     \"C\": stats.uniform(0, 1),\n",
    "     \"l1_ratio\": stats.uniform(0, 1),\n",
    "     #\"max_iter\": [100, 500, 1000, 1500],\n",
    "    }\n",
    "\n",
    "  # run randomized search\n",
    "  n_iter_search = 15\n",
    "\n",
    "  random_search = RandomizedSearchCV(\n",
    "     clf, param_distributions=param_dist, n_iter=n_iter_search\n",
    "  )\n",
    "\n",
    "  start = time()\n",
    "  random_search.fit(X, y)\n",
    "  print(\n",
    "     \"RandomizedSearchCV took %.2f seconds for %d candidates parameter settings.\"\n",
    "     % ((time() - start), n_iter_search)\n",
    "  )\n",
    "  report(random_search.cv_results_)\n",
    "\n",
    "random_search()"
   ]
  },
  {
   "cell_type": "markdown",
   "metadata": {
    "id": "1x69DIhyijRA"
   },
   "source": [
    "accuracy check"
   ]
  },
  {
   "cell_type": "code",
   "execution_count": null,
   "metadata": {
    "id": "cP4k0XgCipZ5"
   },
   "outputs": [],
   "source": [
    "#acc test for count data 20 news group\n",
    "from sklearn.metrics import precision_score\n",
    "from sklearn.metrics import classification_report\n",
    "import seaborn as sns\n",
    "from sklearn import metrics\n",
    "from sklearn.linear_model import LogisticRegression\n",
    "\n",
    "logisticRegr = LogisticRegression(C = 0.867,max_iter=1000)\n",
    "logisticRegr.fit(tfid_newsgroup_x_train, tfid_newsgroup_y_train)\n",
    "predictions = logisticRegr.predict(tfid_newsgroup_x_test)\n",
    "score=logisticRegr.score(tfid_newsgroup_x_test, tfid_newsgroup_y_test)\n",
    "print('Accuracy Score for count vectorization in 20newsgroup dataset step 1:', metrics.accuracy_score(tfid_newsgroup_y_test, predictions)) \n",
    "class_report=classification_report(tfid_newsgroup_y_test, predictions)\n",
    "print(class_report)"
   ]
  },
  {
   "cell_type": "code",
   "execution_count": null,
   "metadata": {
    "id": "TcjydpmEgeoe"
   },
   "outputs": [],
   "source": [
    "#acc test for count data 20 news group\n",
    "from sklearn.metrics import precision_score\n",
    "from sklearn.metrics import classification_report\n",
    "import seaborn as sns\n",
    "from sklearn import metrics\n",
    "from sklearn.linear_model import LogisticRegression\n",
    "\n",
    "logisticRegr = LogisticRegression(C = 0.867,max_iter=1000)\n",
    "logisticRegr.fit(count_newsgroup_x_train, count_newsgroup_y_train)\n",
    "predictions = logisticRegr.predict(count_newsgroup_x_test)\n",
    "score=logisticRegr.score(count_newsgroup_x_test, count_newsgroup_y_test)\n",
    "print('Accuracy Score for count vectorization in 20newsgroup dataset step 1:', metrics.accuracy_score(count_newsgroup_y_test, predictions)) \n",
    "class_report=classification_report(count_newsgroup_y_test, predictions)\n",
    "print(class_report)"
   ]
  },
  {
   "cell_type": "markdown",
   "metadata": {
    "id": "CywheZW1hATL"
   },
   "source": [
    "TFID sentiment"
   ]
  },
  {
   "cell_type": "code",
   "execution_count": null,
   "metadata": {
    "id": "hZbNSxPShDI3"
   },
   "outputs": [],
   "source": [
    "import numpy as np\n",
    "\n",
    "from time import time\n",
    "import scipy.stats as stats\n",
    "from sklearn.utils.fixes import loguniform\n",
    "\n",
    "from sklearn.model_selection import GridSearchCV, RandomizedSearchCV\n",
    "from sklearn.datasets import load_digits\n",
    "from sklearn.linear_model import SGDClassifier\n",
    "\n",
    "# get some data\n",
    "#X, y = load_digits(return_X_y=True, n_class=3)\n",
    "X = tfid_sentiment_x_train \n",
    "y = tfid_sentiment_y_train\n",
    "\n",
    "# build a classifier\n",
    "clf = LogisticRegression(C = 0.5,penalty='elasticnet',solver='saga',l1_ratio=0)\n",
    "\n",
    "# Utility function to report best scores\n",
    "def report(results, n_top=3):\n",
    "    for i in range(1, n_top + 1):\n",
    "        candidates = np.flatnonzero(results[\"rank_test_score\"] == i)\n",
    "        for candidate in candidates:\n",
    "            print(\"Model with rank: {0}\".format(i))\n",
    "            print(\n",
    "                \"Mean validation score: {0:.3f} (std: {1:.3f})\".format(\n",
    "                    results[\"mean_test_score\"][candidate],\n",
    "                    results[\"std_test_score\"][candidate],\n",
    "                )\n",
    "            )\n",
    "            print(\"Parameters: {0}\".format(results[\"params\"][candidate]))\n",
    "            print(\"\")\n",
    "\n",
    "def random_search():\n",
    "  # specify parameters and distributions to sample from\n",
    "  print(\"here\")\n",
    "  param_dist = {\n",
    "     \"C\": stats.uniform(0, 1),\n",
    "     \"l1_ratio\": stats.uniform(0, 1),\n",
    "     #\"max_iter\": [100, 500, 1000, 1500],\n",
    "    }\n",
    "\n",
    "  # run randomized search\n",
    "  n_iter_search = 15\n",
    "\n",
    "  random_search = RandomizedSearchCV(\n",
    "     clf, param_distributions=param_dist, n_iter=n_iter_search\n",
    "  )\n",
    "\n",
    "  start = time()\n",
    "  random_search.fit(X, y)\n",
    "  print(\n",
    "     \"RandomizedSearchCV took %.2f seconds for %d candidates parameter settings.\"\n",
    "     % ((time() - start), n_iter_search)\n",
    "  )\n",
    "  report(random_search.cv_results_)\n",
    "\n",
    "random_search()"
   ]
  },
  {
   "cell_type": "code",
   "execution_count": null,
   "metadata": {
    "id": "PgPrxz4Dhq2s"
   },
   "outputs": [],
   "source": [
    "#acc test for tfid sentiment\n",
    "from sklearn.metrics import precision_score\n",
    "from sklearn.metrics import classification_report\n",
    "import seaborn as sns\n",
    "from sklearn import metrics\n",
    "from sklearn.linear_model import LogisticRegression\n",
    "\n",
    "logisticRegr = LogisticRegression(C = 0.874,l1_ratio = 0.026)\n",
    "logisticRegr.fit(tfid_sentiment_x_train, tfid_sentiment_y_train )\n",
    "predictions = logisticRegr.predict(tfid_sentiment_x_test)\n",
    "score=logisticRegr.score(tfid_sentiment_x_test, tfid_sentiment_y_test)\n",
    "print('Accuracy Score for count vectorization in 20newsgroup dataset step 1:', metrics.accuracy_score(tfid_sentiment_y_test, predictions)) \n",
    "class_report=classification_report(tfid_sentiment_y_test, predictions)\n",
    "print(class_report)"
   ]
  },
  {
   "cell_type": "markdown",
   "metadata": {
    "id": "dBlMgwesS7s-"
   },
   "source": [
    "COUNT sentiment"
   ]
  },
  {
   "cell_type": "code",
   "execution_count": null,
   "metadata": {
    "id": "hbVzzIZIS-Ys"
   },
   "outputs": [],
   "source": [
    "import numpy as np\n",
    "\n",
    "from time import time\n",
    "import scipy.stats as stats\n",
    "from sklearn.utils.fixes import loguniform\n",
    "\n",
    "from sklearn.model_selection import GridSearchCV, RandomizedSearchCV\n",
    "from sklearn.datasets import load_digits\n",
    "from sklearn.linear_model import SGDClassifier\n",
    "\n",
    "# get some data\n",
    "#X, y = load_digits(return_X_y=True, n_class=3)\n",
    "X = count_sentiment_x_train \n",
    "y = count_sentiment_y_train\n",
    "\n",
    "# build a classifier\n",
    "# clf = SGDClassifier(loss=\"hinge\", penalty=\"elasticnet\", fit_intercept=True)\n",
    "clf = LogisticRegression(C = 0.5,penalty='elasticnet',solver='saga',l1_ratio=0)\n",
    "\n",
    "# Utility function to report best scores\n",
    "def report(results, n_top=3):\n",
    "    for i in range(1, n_top + 1):\n",
    "        candidates = np.flatnonzero(results[\"rank_test_score\"] == i)\n",
    "        for candidate in candidates:\n",
    "            print(\"Model with rank: {0}\".format(i))\n",
    "            print(\n",
    "                \"Mean validation score: {0:.3f} (std: {1:.3f})\".format(\n",
    "                    results[\"mean_test_score\"][candidate],\n",
    "                    results[\"std_test_score\"][candidate],\n",
    "                )\n",
    "            )\n",
    "            print(\"Parameters: {0}\".format(results[\"params\"][candidate]))\n",
    "            print(\"\")\n",
    "\n",
    "def random_search():\n",
    "  # specify parameters and distributions to sample from\n",
    "  print(\"here\")\n",
    "  param_dist = {\n",
    "     \"C\": stats.uniform(0, 1),\n",
    "     \"l1_ratio\": stats.uniform(0, 1),\n",
    "     #\"max_iter\": [100, 500, 1000, 1500],\n",
    "    }\n",
    "\n",
    "  # run randomized search\n",
    "  n_iter_search = 8\n",
    "\n",
    "  random_search = RandomizedSearchCV(\n",
    "     clf, param_distributions=param_dist, n_iter=n_iter_search\n",
    "  )\n",
    "\n",
    "  start = time()\n",
    "  random_search.fit(X, y)\n",
    "  print(\n",
    "     \"RandomizedSearchCV took %.2f seconds for %d candidates parameter settings.\"\n",
    "     % ((time() - start), n_iter_search)\n",
    "  )\n",
    "  report(random_search.cv_results_)\n",
    "\n",
    "random_search()"
   ]
  },
  {
   "cell_type": "code",
   "execution_count": null,
   "metadata": {
    "id": "HaP9gp4VTKYP"
   },
   "outputs": [],
   "source": [
    "#acc test for count sentiment\n",
    "from sklearn.metrics import precision_score\n",
    "from sklearn.metrics import classification_report\n",
    "import seaborn as sns\n",
    "from sklearn import metrics\n",
    "from sklearn.linear_model import LogisticRegression\n",
    "\n",
    "logisticRegr = LogisticRegression(C = 0.69,l1_ratio = 0.7)\n",
    "logisticRegr.fit(count_sentiment_x_train, count_sentiment_y_train )\n",
    "predictions = logisticRegr.predict(count_sentiment_x_test)\n",
    "score=logisticRegr.score(count_sentiment_x_test, count_sentiment_y_test)\n",
    "print('Accuracy Score for count vectorization in 20newsgroup dataset step 1:', metrics.accuracy_score(count_sentiment_y_test, predictions)) \n",
    "class_report=classification_report(count_sentiment_y_test, predictions)\n",
    "print(class_report)"
   ]
  },
  {
   "cell_type": "markdown",
   "metadata": {
    "id": "gapZr4NZjqum"
   },
   "source": [
    "20% 40% 60% 80% training set tests for TFID 20 news group"
   ]
  },
  {
   "cell_type": "code",
   "execution_count": null,
   "metadata": {
    "id": "BtMLCGOgkwIS"
   },
   "outputs": [],
   "source": [
    "import numpy as np\n",
    "import matplotlib.pyplot as plt\n",
    "from IPython.core.debugger import set_trace\n",
    "import warnings\n",
    "warnings.filterwarnings('ignore')\n",
    "from sklearn import datasets, neighbors\n",
    "from sklearn.metrics import precision_score\n",
    "from sklearn.metrics import classification_report\n",
    "import seaborn as sns\n",
    "from sklearn import metrics\n",
    "from sklearn.linear_model import LogisticRegression\n",
    "\n",
    "train_port = [100,80, 60, 40, 20]\n",
    "acc = np.zeros(len(train_port))\n",
    "\n",
    "num_instances_count = tfid_newsgroup_x_train.shape[0]\n",
    "for i, p in enumerate(train_port):    \n",
    "  splitIndex = math.floor(num_instances_count*(p/100))\n",
    "  tfid_newsgroup_x_train_port = tfid_newsgroup_x_train[:splitIndex]\n",
    "  tfid_newsgroup_y_train_port = tfid_newsgroup_y_train[:splitIndex]\n",
    "  model = LogisticRegression()\n",
    "  model.fit(tfid_newsgroup_x_train_port, tfid_newsgroup_y_train_port)\n",
    "  #for this we're not returning probabilities, but an array of numbers y_pred representing the class predicted for each instance\n",
    "  y_pred = model.predict(tfid_newsgroup_x_test)\n",
    "  acc[i] = metrics.accuracy_score(tfid_newsgroup_y_test, y_pred)\n",
    "  plt.scatter(p, acc[i], marker='o');\n",
    "\n",
    "plt.legend()\n",
    "plt.xlabel('train set percentage')\n",
    "plt.ylabel('accuracy')\n",
    "plt.grid(True) \n",
    "plt.show()"
   ]
  },
  {
   "cell_type": "markdown",
   "metadata": {
    "id": "No4vzpAwjOkZ"
   },
   "source": [
    "20% 40% 60% 80% training set tests for count 20 news group"
   ]
  },
  {
   "cell_type": "code",
   "execution_count": null,
   "metadata": {
    "id": "eLloWHSWjkO8"
   },
   "outputs": [],
   "source": [
    "import numpy as np\n",
    "import matplotlib.pyplot as plt\n",
    "from IPython.core.debugger import set_trace\n",
    "import warnings\n",
    "warnings.filterwarnings('ignore')\n",
    "from sklearn import datasets, neighbors\n",
    "from sklearn.metrics import precision_score\n",
    "from sklearn.metrics import classification_report\n",
    "import seaborn as sns\n",
    "from sklearn import metrics\n",
    "from sklearn.linear_model import LogisticRegression\n",
    "\n",
    "train_port = [100,80, 60, 40, 20]\n",
    "acc = np.zeros(len(train_port))\n",
    "\n",
    "num_instances_count = count_newsgroup_x_train.shape[0]\n",
    "for i, p in enumerate(train_port):    \n",
    "  splitIndex = math.floor(num_instances_count*(p/100))\n",
    "  count_newsgroup_x_train_port = count_newsgroup_x_train[:splitIndex]\n",
    "  count_newsgroup_y_train_port = count_newsgroup_y_train[:splitIndex]\n",
    "  model = LogisticRegression(C = 0.867,max_iter=1000)\n",
    "  model.fit(count_newsgroup_x_train_port, count_newsgroup_y_train_port)\n",
    "  y_pred = model.predict(count_newsgroup_x_test)\n",
    "  acc[i] = metrics.accuracy_score(count_newsgroup_y_test, y_pred)\n",
    "  plt.scatter(p, acc[i], marker='o');\n",
    "\n",
    "plt.legend()\n",
    "plt.xlabel('train set percentage')\n",
    "plt.ylabel('accuracy')\n",
    "plt.grid(True) \n",
    "plt.show()"
   ]
  },
  {
   "cell_type": "markdown",
   "metadata": {
    "id": "0My1J8Mk9Hti"
   },
   "source": [
    "20% 40% 60% 80% training set tests for tfid sentiment"
   ]
  },
  {
   "cell_type": "code",
   "execution_count": null,
   "metadata": {
    "id": "c5aIJaOQ9DE7"
   },
   "outputs": [],
   "source": [
    "import numpy as np\n",
    "import matplotlib.pyplot as plt\n",
    "from IPython.core.debugger import set_trace\n",
    "import warnings\n",
    "warnings.filterwarnings('ignore')\n",
    "from sklearn import datasets, neighbors\n",
    "from sklearn.metrics import precision_score\n",
    "from sklearn.metrics import classification_report\n",
    "import seaborn as sns\n",
    "from sklearn import metrics\n",
    "from sklearn.linear_model import LogisticRegression\n",
    "\n",
    "train_port = [100,80, 60, 40, 20]\n",
    "acc = np.zeros(len(train_port))\n",
    "\n",
    "num_instances_count = tfid_sentiment_x_train.shape[0]\n",
    "for i, p in enumerate(train_port):    \n",
    "  splitIndex = math.floor(num_instances_count*(p/100))\n",
    "  tfid_sentiment_x_train_port = tfid_sentiment_x_train[:splitIndex]\n",
    "  tfid_sentiment_y_train_port = tfid_sentiment_y_train[:splitIndex]\n",
    "  logisticRegr = LogisticRegression(C = 0.874,l1_ratio = 0.026)\n",
    "  model.fit(tfid_sentiment_x_train_port, tfid_sentiment_y_train_port)\n",
    "  y_pred = model.predict(tfid_sentiment_x_test)\n",
    "  acc[i] = metrics.accuracy_score(tfid_sentiment_y_test, y_pred)\n",
    "  plt.scatter(p, acc[i], marker='o');\n",
    "\n",
    "plt.legend()\n",
    "plt.xlabel('train set percentage')\n",
    "plt.ylabel('accuracy')\n",
    "plt.grid(True) \n",
    "plt.show()"
   ]
  },
  {
   "cell_type": "markdown",
   "metadata": {
    "id": "Zg-544rr9mVc"
   },
   "source": [
    "20% 40% 60% 80% training set tests for count sentiment"
   ]
  },
  {
   "cell_type": "code",
   "execution_count": null,
   "metadata": {
    "id": "kv0eY6O_9jJP"
   },
   "outputs": [],
   "source": [
    "import numpy as np\n",
    "import matplotlib.pyplot as plt\n",
    "from IPython.core.debugger import set_trace\n",
    "import warnings\n",
    "warnings.filterwarnings('ignore')\n",
    "from sklearn import datasets, neighbors\n",
    "from sklearn.metrics import precision_score\n",
    "from sklearn.metrics import classification_report\n",
    "import seaborn as sns\n",
    "from sklearn import metrics\n",
    "from sklearn.linear_model import LogisticRegression\n",
    "\n",
    "train_port = [100,80, 60, 40, 20]\n",
    "acc = np.zeros(len(train_port))\n",
    "\n",
    "num_instances_count = count_sentiment_x_train.shape[0]\n",
    "for i, p in enumerate(train_port):    \n",
    "  splitIndex = math.floor(num_instances_count*(p/100))\n",
    "  count_sentiment_x_train_port = count_sentiment_x_train[:splitIndex]\n",
    "  count_sentiment_y_train_port = count_sentiment_y_train[:splitIndex]\n",
    "  logisticRegr = LogisticRegression(C = 0.69,l1_ratio = 0.7)\n",
    "  model.fit(count_sentiment_x_train_port, count_sentiment_y_train_port)\n",
    "  y_pred = model.predict(count_sentiment_x_test)\n",
    "  acc[i] = metrics.accuracy_score(count_sentiment_y_test, y_pred)\n",
    "  plt.scatter(p, acc[i], marker='o');\n",
    "\n",
    "plt.legend()\n",
    "plt.xlabel('train set percentage')\n",
    "plt.ylabel('accuracy')\n",
    "plt.grid(True) \n",
    "plt.show()"
   ]
  }
 ],
 "metadata": {
  "colab": {
   "collapsed_sections": [],
   "name": "T3-SoftmaxRegression_final.ipynb",
   "provenance": []
  },
  "kernelspec": {
   "display_name": "Python 3 (ipykernel)",
   "language": "python",
   "name": "python3"
  },
  "language_info": {
   "codemirror_mode": {
    "name": "ipython",
    "version": 3
   },
   "file_extension": ".py",
   "mimetype": "text/x-python",
   "name": "python",
   "nbconvert_exporter": "python",
   "pygments_lexer": "ipython3",
   "version": "3.9.7"
  }
 },
 "nbformat": 4,
 "nbformat_minor": 1
}
