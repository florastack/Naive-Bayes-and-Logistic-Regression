{
 "cells": [
  {
   "cell_type": "markdown",
   "metadata": {
    "id": "6SA2hoC2bdmq"
   },
   "source": [
    "# Imports"
   ]
  },
  {
   "cell_type": "code",
   "execution_count": null,
   "metadata": {
    "id": "M97GwXQWBJmm"
   },
   "outputs": [],
   "source": [
    "import numpy as np\n",
    "import itertools\n",
    "import scipy\n",
    "%matplotlib inline\n",
    "import matplotlib.pyplot as plt\n",
    "from sklearn import datasets\n",
    "np.random.seed(1234)\n",
    "from sklearn import datasets\n",
    "from sklearn.datasets import fetch_20newsgroups\n",
    "from sklearn.feature_extraction.text import CountVectorizer\n",
    "from pprint import pprint\n",
    "from sklearn.feature_extraction.text import TfidfVectorizer\n",
    "from sklearn.metrics import precision_score\n",
    "from sklearn.metrics import recall_score\n",
    "from sklearn.metrics import classification_report"
   ]
  },
  {
   "cell_type": "markdown",
   "metadata": {
    "id": "w_s3-UiNKggj"
   },
   "source": [
    "# Utilities"
   ]
  },
  {
   "cell_type": "code",
   "execution_count": null,
   "metadata": {
    "id": "KtnuhGeuKexv"
   },
   "outputs": [],
   "source": [
    "def logsumexp(Z):                                              # dimension C x N\n",
    "  Zmax = np.max(Z,axis=0)[None,:]                              # max over C\n",
    "  log_sum_exp = Zmax + np.log(np.sum(np.exp(Z - Zmax), axis=0))\n",
    "  return log_sum_exp\n",
    "\n",
    "def evaluate_acc(y_test, y_pred):\n",
    "    accuracy = np.sum(y_pred == y_test)/y_test.shape[0]\n",
    "    print(f'test accuracy: {accuracy}')\n",
    "    return accuracy"
   ]
  },
  {
   "cell_type": "markdown",
   "metadata": {
    "id": "ocugud_N_9ss"
   },
   "source": [
    "# Multinomial Naive Bayes (Class Implementation)"
   ]
  },
  {
   "cell_type": "code",
   "execution_count": null,
   "metadata": {
    "id": "5XbxmwtPsLSE"
   },
   "outputs": [],
   "source": [
    "from functools import total_ordering\n",
    "import numpy as np\n",
    "import itertools\n",
    "import scipy\n",
    "import matplotlib.pyplot as plt\n",
    "from sklearn import datasets\n",
    "from sklearn import datasets\n",
    "from sklearn.datasets import fetch_20newsgroups\n",
    "from sklearn.feature_extraction.text import CountVectorizer\n",
    "from pprint import pprint\n",
    "from sklearn.feature_extraction.text import TfidfVectorizer\n",
    "\n",
    "class MultinomialNaiveBayes:\n",
    "    \n",
    "    def __init__(self):\n",
    "        #self.alpha = alpha #for laplace smoothing for counts\n",
    "        return\n",
    "    \n",
    "    def fit(self, x, y, alpha=1, alpha_prior=1):\n",
    "        self.alpha = alpha  #for laplace smoothing for counts\n",
    "        self.alpha_prior = alpha_prior\n",
    "\n",
    "        N, D = x.shape\n",
    "        C = np.max(y) + 1\n",
    "\n",
    "        self.C = C\n",
    "        self.D = D\n",
    "        self.N = N\n",
    "\n",
    "        print(\"N, D, C:\", N, D, C)\n",
    "\n",
    "        log_theta_x = np.zeros((C,D)) #log likelihood of each feature p(x_i|y)\n",
    "        log_theta_c = np.zeros(C) # log priors\n",
    "        \n",
    "        #compute likelihoods for each class, for each word (and the prior while we're at it)\n",
    "        for c in range(C):\n",
    "\n",
    "            #get all rows of data belonging to c, gather some data about it\n",
    "            x_c = x[y == c]                       #slice all the elements from class c\n",
    "            num_class_elements = x_c.shape[0]     #get number of elements of class c\n",
    "\n",
    "            #calculate p(x_i|y)  the likelihood for each word in this class\n",
    "            #sum of all word counts in this class, from our one class data splice\n",
    "            occurences = np.sum(x_c, axis =0) # D 1d matrix\n",
    "                        \n",
    "            #LAPLACE SMOOTHING alpha + 1\n",
    "            occurences = occurences + self.alpha if self.alpha > 0 else occurences\n",
    "            \n",
    "            #count all words in class\n",
    "            total_words_in_class = np.sum(occurences, axis=1) \n",
    "            #SMOOTH, our vocabular size is just the number of features bc of how we processed data\n",
    "            total_words_in_class = total_words_in_class + (D * self.alpha) if self.alpha > 0 else total_words_in_class\n",
    "\n",
    "            #calculate frequency\n",
    "            frequency = np.apply_along_axis((lambda x : x/total_words_in_class),axis=1, arr=occurences)\n",
    "\n",
    "            #now do it in the log domin\n",
    "            log_total_words_in_class = np.log(total_words_in_class)\n",
    "            log_frequency = np.apply_along_axis((lambda x : np.log(x) - log_total_words_in_class) ,axis=1, arr=occurences)\n",
    "            log_theta_x[c,:] = log_frequency\n",
    "\n",
    "            #smooth prior\n",
    "            num_class_elements = num_class_elements + self.alpha_prior if self.alpha_prior > 0 else num_class_elements\n",
    "            total_elements = N + (D * self.alpha_prior) if self.alpha_prior > 0 else total_elements\n",
    "\n",
    "            log_theta_c[c] = np.log(num_class_elements) - np.log(total_elements)\n",
    "\n",
    "        self.log_theta_x = log_theta_x\n",
    "        self.log_theta_c = log_theta_c \n",
    "        return self\n",
    "\n",
    "    def predict(self, xt):\n",
    "        Ntest, Dtest = xt.shape\n",
    "\n",
    "        y_pred = np.zeros((Ntest))\n",
    "\n",
    "        for n in range(Ntest):\n",
    "          \n",
    "            instance = xt[n].toarray() #sparse array\n",
    "          \n",
    "            log_posteriors = np.zeros(self.C)\n",
    "\n",
    "            for c in range(self.C):\n",
    "                log_prior = self.log_theta_c[c]\n",
    "\n",
    "                #work in log domain, likelihoods are our theta params\n",
    "                log_likelihoods = self.log_theta_x[c]\n",
    "\n",
    "                #log domain: log(theta^count) = count * log(theta)\n",
    "                #perform the likelihood calculation ONLY where instnace[i] != 0\n",
    "                log_likelihoods =np.where((instance != 0), np.multiply(instance, log_likelihoods), 0)\n",
    "                log_likelihood_sum = np.sum(log_likelihoods)\n",
    "\n",
    "                log_posteriors[c] = log_likelihood_sum + log_prior  \n",
    "\n",
    "            y_pred[n] = np.argmax(log_posteriors)     \n",
    "\n",
    "        return y_pred"
   ]
  },
  {
   "cell_type": "markdown",
   "metadata": {
    "id": "cU3yphgefdqC"
   },
   "source": [
    "#Data Loads"
   ]
  },
  {
   "cell_type": "markdown",
   "metadata": {
    "id": "TOVwunSOKEc5"
   },
   "source": [
    "## 20 News Group (Count)"
   ]
  },
  {
   "cell_type": "code",
   "execution_count": null,
   "metadata": {
    "id": "g6kF3Lt_KH1H"
   },
   "outputs": [],
   "source": [
    "FEATURE_NUM = None\n",
    "import numpy as np\n",
    "import math\n",
    "import pandas as pd\n",
    "import itertools\n",
    "import matplotlib.pyplot as plt\n",
    "from sklearn import datasets\n",
    "from sklearn.datasets import fetch_20newsgroups\n",
    "from sklearn.feature_extraction.text import CountVectorizer\n",
    "from pprint import pprint\n",
    "from sklearn.feature_extraction.text import TfidfVectorizer\n",
    "\n",
    "categories = ['alt.atheism',\n",
    "'comp.graphics',\n",
    "'comp.os.ms-windows.misc',\n",
    "'comp.sys.ibm.pc.hardware',\n",
    "'comp.sys.mac.hardware',\n",
    "'comp.windows.x',\n",
    "'misc.forsale',\n",
    "'rec.autos',\n",
    "'rec.motorcycles',\n",
    "'rec.sport.baseball',\n",
    "'rec.sport.hockey',\n",
    "'sci.crypt',\n",
    "'sci.electronics',\n",
    "'sci.med',\n",
    "'sci.space',\n",
    "'soc.religion.christian',\n",
    "'talk.politics.guns',\n",
    "'talk.politics.mideast',\n",
    "'talk.politics.misc',\n",
    "'talk.religion.misc']\n",
    "\n",
    "x, y  = fetch_20newsgroups(remove=('headers', 'footers', 'quotes'), return_X_y=True, random_state=42)\n",
    "\n",
    "#VECTORIZATION\n",
    "#COUNT\n",
    "vectorizer_count = CountVectorizer(stop_words='english', strip_accents='ascii', max_features=FEATURE_NUM)\n",
    "count_newsgroup_x = vectorizer_count.fit_transform(x)\n",
    "words_as_features_count = vectorizer_count.get_feature_names_out()\n",
    "\n",
    "#TEST TRAIN SPLIT\n",
    "TRAIN_PERCENTAGE = 80 \n",
    "#Count Data\n",
    "num_instances_count = count_newsgroup_x.shape[0]\n",
    "splitIndex = math.floor(num_instances_count*(TRAIN_PERCENTAGE/100))\n",
    "count_newsgroup_x_train, count_newsgroup_x_test = count_newsgroup_x[:splitIndex], count_newsgroup_x[splitIndex:]\n",
    "count_newsgroup_y_train, count_newsgroup_y_test = y[:splitIndex], y[splitIndex:]"
   ]
  },
  {
   "cell_type": "markdown",
   "metadata": {
    "id": "DbQ7n71zugq1"
   },
   "source": [
    "## Sentiment 140 (Count)"
   ]
  },
  {
   "cell_type": "markdown",
   "metadata": {
    "id": "n65ucM-teBwC"
   },
   "source": [
    "## Get x_train, x_test, y_train, y_test \n",
    "\n",
    "This process involved saving matrices to files and reuploading them for memory concerns as well as upload speeds of the entire data set.\n"
   ]
  },
  {
   "cell_type": "code",
   "execution_count": null,
   "metadata": {
    "id": "Pc_YIZHPItBQ"
   },
   "outputs": [],
   "source": [
    "import numpy as np\n",
    "from google.colab import files\n",
    "import scipy\n",
    "from scipy import sparse\n",
    "\n",
    "#uncomment for prompt to uploadfile\n",
    "#uploaded = files.upload()\n",
    "\n",
    "#COUNT VECTORIZED\n",
    "count_sentiment_x_train = scipy.sparse.load_npz(file = '/content/count_sentiment_x_train.npz')\n",
    "count_sentiment_y_train = np.load(file = '/content/count_sentiment_y_train.npy')\n",
    "count_sentiment_x_test = scipy.sparse.load_npz(file = '/content/count_sentiment_x_test.npz')\n",
    "count_sentiment_y_test = np.load(file = '/content/count_sentiment_y_test.npy')\n",
    "\n",
    "count_sentiment = (count_sentiment_x_train,  count_sentiment_y_train, count_sentiment_x_test, count_sentiment_y_test)\n",
    "\n",
    "#TFID\n",
    "tfid_sentiment_x_train = scipy.sparse.load_npz(file = '/content/tfid_sentiment_x_train.npz')\n",
    "tfid_sentiment_y_train = np.load(file = '/content/tfid_sentiment_y_train.npy')\n",
    "tfid_sentiment_x_test = scipy.sparse.load_npz(file = '/content/tfid_sentiment_x_test.npz')\n",
    "tfid_sentiment_y_test = np.load(file = '/content/tfid_sentiment_y_test.npy')\n",
    "\n",
    "tfid_sentiment = (tfid_sentiment_x_train, tfid_sentiment_y_train, tfid_sentiment_x_test, tfid_sentiment_y_test)"
   ]
  },
  {
   "cell_type": "markdown",
   "metadata": {
    "id": "4jDe3Pu_JtuC"
   },
   "source": [
    "# Experiments\n",
    "\n"
   ]
  },
  {
   "cell_type": "markdown",
   "metadata": {
    "id": "ajikvOnHKqsK"
   },
   "source": [
    "## 20 News Group"
   ]
  },
  {
   "cell_type": "code",
   "execution_count": null,
   "metadata": {
    "colab": {
     "base_uri": "https://localhost:8080/"
    },
    "executionInfo": {
     "elapsed": 28620,
     "status": "ok",
     "timestamp": 1646693544285,
     "user": {
      "displayName": "Alicia Nguyen",
      "photoUrl": "https://lh3.googleusercontent.com/a/default-user=s64",
      "userId": "03695225755160591430"
     },
     "user_tz": 300
    },
    "id": "uU0OSs7JKvi_",
    "outputId": "bcf40702-fd77-4f7b-bd58-d11e269d5e29"
   },
   "outputs": [
    {
     "name": "stdout",
     "output_type": "stream",
     "text": [
      "N, D, C: 9051 101320 20\n",
      "test accuracy: 0.6544410075121521\n",
      "report: \n",
      "              precision    recall  f1-score   support\n",
      "\n",
      "           0       0.93      0.36      0.52       102\n",
      "           1       0.59      0.67      0.62       118\n",
      "           2       1.00      0.05      0.10       118\n",
      "           3       0.55      0.69      0.61       109\n",
      "           4       0.83      0.64      0.72       102\n",
      "           5       0.37      0.88      0.53       101\n",
      "           6       0.85      0.67      0.75       115\n",
      "           7       0.86      0.63      0.73       117\n",
      "           8       0.89      0.63      0.74       108\n",
      "           9       0.95      0.74      0.83       116\n",
      "          10       0.89      0.82      0.85       125\n",
      "          11       0.48      0.85      0.62       121\n",
      "          12       0.80      0.43      0.56       119\n",
      "          13       0.83      0.85      0.84       117\n",
      "          14       0.79      0.75      0.77       140\n",
      "          15       0.48      0.94      0.64       120\n",
      "          16       0.73      0.72      0.73       112\n",
      "          17       0.50      0.85      0.63       108\n",
      "          18       0.69      0.63      0.66       111\n",
      "          19       0.80      0.10      0.17        84\n",
      "\n",
      "    accuracy                           0.65      2263\n",
      "   macro avg       0.74      0.65      0.63      2263\n",
      "weighted avg       0.74      0.65      0.64      2263\n",
      "\n"
     ]
    }
   ],
   "source": [
    "#variables used\n",
    "#count_newsgroup_x_train, count_newsgroup_x_test, count_newsgroup_y_train, count_newsgroup_y_test\n",
    "ALPHA = 1\n",
    "ALPHA_PRIOR = 1\n",
    "\n",
    "#create model object\n",
    "model = MultinomialNaiveBayes()\n",
    "\n",
    "#fit model (can pass an extra arg alpha = int for pseudocpunts)\n",
    "model.fit(count_newsgroup_x_train, count_newsgroup_y_train, alpha=ALPHA, alpha_prior=ALPHA_PRIOR)\n",
    "\n",
    "#predict\n",
    "newsgroup_y_pred = model.predict(count_newsgroup_x_test)\n",
    "\n",
    "#EVALUATION METRICS\n",
    "\n",
    "#accuracy\n",
    "evaluate_acc(count_newsgroup_y_test, newsgroup_y_pred)\n",
    "\n",
    "#further report\n",
    "print(\"report: \") \n",
    "newsgroup_class_report=classification_report(count_newsgroup_y_test, newsgroup_y_pred)\n",
    "print(newsgroup_class_report)"
   ]
  },
  {
   "cell_type": "markdown",
   "metadata": {
    "id": "AETRXHCGt5iF"
   },
   "source": [
    "##Sentiment 140"
   ]
  },
  {
   "cell_type": "code",
   "execution_count": null,
   "metadata": {
    "colab": {
     "base_uri": "https://localhost:8080/"
    },
    "executionInfo": {
     "elapsed": 582,
     "status": "ok",
     "timestamp": 1646693561955,
     "user": {
      "displayName": "Alicia Nguyen",
      "photoUrl": "https://lh3.googleusercontent.com/a/default-user=s64",
      "userId": "03695225755160591430"
     },
     "user_tz": 300
    },
    "id": "32TdXfbPurgQ",
    "outputId": "14fef5a7-47ff-4397-f04b-b119676835b3"
   },
   "outputs": [
    {
     "name": "stdout",
     "output_type": "stream",
     "text": [
      "N, D, C: 100000 93761 2\n",
      "test accuracy: 0.7932960893854749\n",
      "report: \n",
      "              precision    recall  f1-score   support\n",
      "\n",
      "           0       0.78      0.81      0.80       177\n",
      "           1       0.81      0.77      0.79       181\n",
      "\n",
      "    accuracy                           0.79       358\n",
      "   macro avg       0.79      0.79      0.79       358\n",
      "weighted avg       0.79      0.79      0.79       358\n",
      "\n"
     ]
    }
   ],
   "source": [
    "#Sentiment Experiment on Multinomial Bayes with count vectors\n",
    "ALPHA = 5 # was 1 and replaced by the best one found by k folds\n",
    "ALPHA_PRIOR = 1\n",
    "\n",
    "#variables used:\n",
    "#count_sentiment_x_train, count_sentiment_x_test, count_sentiment_y_train, count_sentiment_y_test\n",
    "\n",
    "#create model object\n",
    "model = MultinomialNaiveBayes()\n",
    "\n",
    "#fit, hyperaparameters as constants above\n",
    "model.fit(count_sentiment_x_train, count_sentiment_y_train, alpha = ALPHA, alpha_prior=ALPHA_PRIOR)\n",
    "\n",
    "#predict\n",
    "sentiment_y_pred = model.predict(count_sentiment_x_test)\n",
    "\n",
    "#EVALUATION METRICS\n",
    "\n",
    "#evaluate accuracy\n",
    "evaluate_acc(count_sentiment_y_test, sentiment_y_pred)\n",
    "\n",
    "#further report\n",
    "print(\"report: \") \n",
    "sentiment_class_report=classification_report(count_sentiment_y_test, sentiment_y_pred)\n",
    "print(sentiment_class_report)"
   ]
  },
  {
   "cell_type": "markdown",
   "metadata": {
    "id": "UmmJUrKBbJBb"
   },
   "source": [
    "# Hyperparameter Estimation"
   ]
  },
  {
   "cell_type": "markdown",
   "metadata": {
    "id": "TrJ-m-u1a-YQ"
   },
   "source": [
    "20 News Group"
   ]
  },
  {
   "cell_type": "code",
   "execution_count": null,
   "metadata": {
    "colab": {
     "base_uri": "https://localhost:8080/",
     "height": 1000
    },
    "executionInfo": {
     "elapsed": 848126,
     "status": "ok",
     "timestamp": 1646437390908,
     "user": {
      "displayName": "Zhao Lei",
      "photoUrl": "https://lh3.googleusercontent.com/a-/AOh14Gh1DWa6Qdwmwt03IE4RvmqODmAm0kweZtF2Iy9t=s64",
      "userId": "17545746481798427516"
     },
     "user_tz": 300
    },
    "id": "CRso6oCma6YX",
    "outputId": "5e26ff89-3d99-43b1-b048-e6753712adcb"
   },
   "outputs": [
    {
     "name": "stdout",
     "output_type": "stream",
     "text": [
      "N, D, C: 7241 101320 20\n",
      "N, D, C: 7241 101320 20\n",
      "N, D, C: 7241 101320 20\n",
      "N, D, C: 7241 101320 20\n",
      "N, D, C: 7240 101320 20\n",
      "N, D, C: 9051 101320 20\n",
      "N, D, C: 7241 101320 20\n",
      "N, D, C: 7241 101320 20\n",
      "N, D, C: 7241 101320 20\n",
      "N, D, C: 7241 101320 20\n",
      "N, D, C: 7240 101320 20\n",
      "N, D, C: 9051 101320 20\n",
      "N, D, C: 7241 101320 20\n",
      "N, D, C: 7241 101320 20\n",
      "N, D, C: 7241 101320 20\n",
      "N, D, C: 7241 101320 20\n",
      "N, D, C: 7240 101320 20\n",
      "N, D, C: 9051 101320 20\n",
      "N, D, C: 7241 101320 20\n",
      "N, D, C: 7241 101320 20\n",
      "N, D, C: 7241 101320 20\n",
      "N, D, C: 7241 101320 20\n",
      "N, D, C: 7240 101320 20\n",
      "N, D, C: 9051 101320 20\n",
      "N, D, C: 7241 101320 20\n",
      "N, D, C: 7241 101320 20\n",
      "N, D, C: 7241 101320 20\n",
      "N, D, C: 7241 101320 20\n",
      "N, D, C: 7240 101320 20\n",
      "N, D, C: 9051 101320 20\n",
      "N, D, C: 7241 101320 20\n",
      "N, D, C: 7241 101320 20\n",
      "N, D, C: 7241 101320 20\n",
      "N, D, C: 7241 101320 20\n",
      "N, D, C: 7240 101320 20\n",
      "N, D, C: 9051 101320 20\n",
      "N, D, C: 7241 101320 20\n",
      "N, D, C: 7241 101320 20\n",
      "N, D, C: 7241 101320 20\n",
      "N, D, C: 7241 101320 20\n",
      "N, D, C: 7240 101320 20\n",
      "N, D, C: 9051 101320 20\n",
      "N, D, C: 7241 101320 20\n",
      "N, D, C: 7241 101320 20\n",
      "N, D, C: 7241 101320 20\n",
      "N, D, C: 7241 101320 20\n",
      "N, D, C: 7240 101320 20\n",
      "N, D, C: 9051 101320 20\n",
      "N, D, C: 7241 101320 20\n",
      "N, D, C: 7241 101320 20\n",
      "N, D, C: 7241 101320 20\n",
      "N, D, C: 7241 101320 20\n",
      "N, D, C: 7240 101320 20\n",
      "N, D, C: 9051 101320 20\n",
      "N, D, C: 7241 101320 20\n",
      "N, D, C: 7241 101320 20\n",
      "N, D, C: 7241 101320 20\n",
      "N, D, C: 7241 101320 20\n",
      "N, D, C: 7240 101320 20\n",
      "N, D, C: 9051 101320 20\n"
     ]
    },
    {
     "data": {
      "image/png": "[encoded data removed]",
      "text/plain": [
       "<Figure size 432x288 with 1 Axes>"
      ]
     },
     "metadata": {
      "needs_background": "light"
     },
     "output_type": "display_data"
    }
   ],
   "source": [
    "import numpy as np\n",
    "import matplotlib.pyplot as plt\n",
    "from IPython.core.debugger import set_trace\n",
    "import warnings\n",
    "warnings.filterwarnings('ignore')\n",
    "from sklearn import datasets, neighbors\n",
    "np.random.seed(1234)\n",
    "\n",
    "#define a function for the MSE loss\n",
    "loss = lambda y, yh: np.mean((y-yh)**2)\n",
    "\n",
    "num_folds = 5 \n",
    "num_instances = count_newsgroup_x_train.shape[0]\n",
    "n_test = num_instances // 5\n",
    "pseudo_list  = range(0,10) # number of differnt parameter to be tried\n",
    "x = count_newsgroup_x_train\n",
    "y = count_newsgroup_y_train\n",
    "x_test = count_newsgroup_x_test\n",
    "y_test = count_newsgroup_y_test\n",
    "\n",
    "    \n",
    "def cross_validation_split(n, n_folds):\n",
    "    #get the number of data samples in each split\n",
    "    n_val = n // n_folds\n",
    "    inds = np.random.permutation(n)\n",
    "    inds = []\n",
    "    for f in range(n_folds):\n",
    "        tr_inds = []\n",
    "        #get the validation indexes\n",
    "        val_inds = list(range(f * n_val, (f+1)*n_val))\n",
    "        #get the train indexes\n",
    "        if f > 0:\n",
    "            tr_inds = list(range(f*n_val))\n",
    "        if f < n_folds - 1:\n",
    "            tr_inds = tr_inds + list(range((f+1)*n_val, n))\n",
    "        yield tr_inds, val_inds\n",
    "        \n",
    "def kfoldCV(num_folds, x, y):\n",
    "\n",
    "  n_rest = x.shape[0]\n",
    "\n",
    "  err_test, err_valid = np.zeros(len(pseudo_list)), np.zeros((len(pseudo_list), num_folds))\n",
    "  for i, p in enumerate(pseudo_list):\n",
    "      #Find the validation errors for num_folds splits for a given K\n",
    "      for f, (tr, val) in enumerate(cross_validation_split(n_rest, num_folds)):\n",
    "        model = MultinomialNaiveBayes()\n",
    "        model = model.fit(x[tr], y[tr],p)\n",
    "        err_valid[i, f] = loss(y[val], model.predict(x[val]))\n",
    "      model = MultinomialNaiveBayes()\n",
    "      model = model.fit(x, y, p)\n",
    "      err_test[i]= loss(y_test, model.predict(x_test))\n",
    "    \n",
    "  plt.plot(pseudo_list, err_test,  label='test')\n",
    "  plt.errorbar(pseudo_list, np.mean(err_valid, axis=1), np.std(err_valid, axis=1), label='validation')\n",
    "  plt.legend()\n",
    "  plt.xlabel('pseudocounts')\n",
    "  plt.ylabel('mean squared error')\n",
    "  plt.show()\n",
    "\n",
    "kfoldCV(num_folds, x, y)"
   ]
  },
  {
   "cell_type": "markdown",
   "metadata": {
    "id": "c3JwJj-stRY7"
   },
   "source": [
    "Calculating best accuracy"
   ]
  },
  {
   "cell_type": "code",
   "execution_count": null,
   "metadata": {
    "colab": {
     "base_uri": "https://localhost:8080/"
    },
    "executionInfo": {
     "elapsed": 15661,
     "status": "ok",
     "timestamp": 1646450234504,
     "user": {
      "displayName": "Zhao Lei",
      "photoUrl": "https://lh3.googleusercontent.com/a-/AOh14Gh1DWa6Qdwmwt03IE4RvmqODmAm0kweZtF2Iy9t=s64",
      "userId": "17545746481798427516"
     },
     "user_tz": 300
    },
    "id": "uD1TywXEtWet",
    "outputId": "9729014a-b5fe-46ae-b262-0c42cce0ba5f"
   },
   "outputs": [
    {
     "name": "stdout",
     "output_type": "stream",
     "text": [
      "N, D, C: 9051 101320 20\n",
      "test accuracy: 0.6544410075121521\n"
     ]
    }
   ],
   "source": [
    "# chose hyperparameter = 1, with full training data\n",
    "model = MultinomialNaiveBayes()\n",
    "model.fit(count_newsgroup_x_train, count_newsgroup_y_train, alpha=1)\n",
    "\n",
    "y_pred_100 = model.predict(count_newsgroup_x_test)\n",
    "acc_100 = evaluate_acc(count_newsgroup_y_test, y_pred_100)"
   ]
  },
  {
   "cell_type": "code",
   "execution_count": null,
   "metadata": {
    "colab": {
     "base_uri": "https://localhost:8080/",
     "height": 435
    },
    "executionInfo": {
     "elapsed": 113437,
     "status": "ok",
     "timestamp": 1646536543315,
     "user": {
      "displayName": "Zhao Lei",
      "photoUrl": "https://lh3.googleusercontent.com/a-/AOh14Gh1DWa6Qdwmwt03IE4RvmqODmAm0kweZtF2Iy9t=s64",
      "userId": "17545746481798427516"
     },
     "user_tz": 300
    },
    "id": "AUIsQaLbEqLP",
    "outputId": "567add02-9d05-413e-cc00-5db3cae45671"
   },
   "outputs": [
    {
     "name": "stdout",
     "output_type": "stream",
     "text": [
      "N, D, C: 7240 101320 20\n",
      "test accuracy: 0.6288113124171454\n",
      "N, D, C: 5430 101320 20\n",
      "test accuracy: 0.6137870083959346\n",
      "N, D, C: 3620 101320 20\n",
      "test accuracy: 0.5368979231109147\n",
      "N, D, C: 1810 101320 20\n"
     ]
    },
    {
     "name": "stderr",
     "output_type": "stream",
     "text": [
      "No handles with labels found to put in legend.\n"
     ]
    },
    {
     "name": "stdout",
     "output_type": "stream",
     "text": [
      "test accuracy: 0.47856827220503756\n"
     ]
    },
    {
     "data": {
      "image/png": "[encoded data removed]",
      "text/plain": [
       "<Figure size 432x288 with 1 Axes>"
      ]
     },
     "metadata": {
      "needs_background": "light"
     },
     "output_type": "display_data"
    }
   ],
   "source": [
    "import numpy as np\n",
    "import matplotlib.pyplot as plt\n",
    "from IPython.core.debugger import set_trace\n",
    "import warnings\n",
    "warnings.filterwarnings('ignore')\n",
    "from sklearn import datasets, neighbors\n",
    "\n",
    "train_port = [80, 60, 40, 20]\n",
    "acc = np.zeros(len(train_port))\n",
    "\n",
    "num_instances_count = count_newsgroup_x_train.shape[0]\n",
    "for i, p in enumerate(train_port):    \n",
    "  splitIndex = math.floor(num_instances_count*(p/100))\n",
    "  count_newsgroup_x_train_port = count_newsgroup_x_train[:splitIndex]\n",
    "  count_newsgroup_y_train_port = count_newsgroup_y_train[:splitIndex]\n",
    "  model = MultinomialNaiveBayes()\n",
    "  model.fit(count_newsgroup_x_train_port, count_newsgroup_y_train_port, alpha=1)\n",
    "  y_pred = model.predict(count_newsgroup_x_test)\n",
    "  acc[i] = evaluate_acc(count_newsgroup_y_test, y_pred)\n",
    "  plt.scatter(p, acc[i], marker='o');\n",
    "\n",
    "plt.scatter(100, acc_100, marker='o');\n",
    "plt.legend()\n",
    "plt.xlabel('train set percentage')\n",
    "plt.ylabel('accuracy')\n",
    "plt.grid(True) \n",
    "plt.show()"
   ]
  },
  {
   "cell_type": "markdown",
   "metadata": {
    "id": "WIkhRlrTqktc"
   },
   "source": [
    "Sentiment 140"
   ]
  },
  {
   "cell_type": "code",
   "execution_count": null,
   "metadata": {
    "colab": {
     "base_uri": "https://localhost:8080/",
     "height": 1000
    },
    "executionInfo": {
     "elapsed": 1300041,
     "status": "ok",
     "timestamp": 1646534904767,
     "user": {
      "displayName": "Zhao Lei",
      "photoUrl": "https://lh3.googleusercontent.com/a-/AOh14Gh1DWa6Qdwmwt03IE4RvmqODmAm0kweZtF2Iy9t=s64",
      "userId": "17545746481798427516"
     },
     "user_tz": 300
    },
    "id": "ImyXLikNqt0O",
    "outputId": "bc0fd57e-557d-46e0-9273-ce47cebbf586"
   },
   "outputs": [
    {
     "name": "stdout",
     "output_type": "stream",
     "text": [
      "N, D, C: 80000 93761 2\n",
      "N, D, C: 80000 93761 2\n",
      "N, D, C: 80000 93761 2\n",
      "N, D, C: 80000 93761 2\n",
      "N, D, C: 80000 93761 2\n",
      "N, D, C: 100000 93761 2\n",
      "N, D, C: 80000 93761 2\n",
      "N, D, C: 80000 93761 2\n",
      "N, D, C: 80000 93761 2\n",
      "N, D, C: 80000 93761 2\n",
      "N, D, C: 80000 93761 2\n",
      "N, D, C: 100000 93761 2\n",
      "N, D, C: 80000 93761 2\n",
      "N, D, C: 80000 93761 2\n",
      "N, D, C: 80000 93761 2\n",
      "N, D, C: 80000 93761 2\n",
      "N, D, C: 80000 93761 2\n",
      "N, D, C: 100000 93761 2\n",
      "N, D, C: 80000 93761 2\n",
      "N, D, C: 80000 93761 2\n",
      "N, D, C: 80000 93761 2\n",
      "N, D, C: 80000 93761 2\n",
      "N, D, C: 80000 93761 2\n",
      "N, D, C: 100000 93761 2\n",
      "N, D, C: 80000 93761 2\n",
      "N, D, C: 80000 93761 2\n",
      "N, D, C: 80000 93761 2\n",
      "N, D, C: 80000 93761 2\n",
      "N, D, C: 80000 93761 2\n",
      "N, D, C: 100000 93761 2\n",
      "N, D, C: 80000 93761 2\n",
      "N, D, C: 80000 93761 2\n",
      "N, D, C: 80000 93761 2\n",
      "N, D, C: 80000 93761 2\n",
      "N, D, C: 80000 93761 2\n",
      "N, D, C: 100000 93761 2\n",
      "N, D, C: 80000 93761 2\n",
      "N, D, C: 80000 93761 2\n",
      "N, D, C: 80000 93761 2\n",
      "N, D, C: 80000 93761 2\n",
      "N, D, C: 80000 93761 2\n",
      "N, D, C: 100000 93761 2\n",
      "N, D, C: 80000 93761 2\n",
      "N, D, C: 80000 93761 2\n",
      "N, D, C: 80000 93761 2\n",
      "N, D, C: 80000 93761 2\n",
      "N, D, C: 80000 93761 2\n",
      "N, D, C: 100000 93761 2\n",
      "N, D, C: 80000 93761 2\n",
      "N, D, C: 80000 93761 2\n",
      "N, D, C: 80000 93761 2\n",
      "N, D, C: 80000 93761 2\n",
      "N, D, C: 80000 93761 2\n",
      "N, D, C: 100000 93761 2\n",
      "N, D, C: 80000 93761 2\n",
      "N, D, C: 80000 93761 2\n",
      "N, D, C: 80000 93761 2\n",
      "N, D, C: 80000 93761 2\n",
      "N, D, C: 80000 93761 2\n",
      "N, D, C: 100000 93761 2\n"
     ]
    },
    {
     "data": {
      "image/png": "[encoded data removed]",
      "text/plain": [
       "<Figure size 432x288 with 1 Axes>"
      ]
     },
     "metadata": {
      "needs_background": "light"
     },
     "output_type": "display_data"
    }
   ],
   "source": [
    "import numpy as np\n",
    "import matplotlib.pyplot as plt\n",
    "from IPython.core.debugger import set_trace\n",
    "import warnings\n",
    "warnings.filterwarnings('ignore')\n",
    "from sklearn import datasets, neighbors\n",
    "np.random.seed(1234)\n",
    "\n",
    "#define a function for the MSE loss\n",
    "loss = lambda y, yh: np.mean((y-yh)**2)\n",
    "\n",
    "num_folds = 5 \n",
    "num_instances = tfid_sentiment_x_train.shape[0]\n",
    "n_test = num_instances // 5\n",
    "pseudo_list  = range(0,10) # number of differnt parameter to be tried\n",
    "x = tfid_sentiment_x_train\n",
    "y = tfid_sentiment_y_train\n",
    "x_test = tfid_sentiment_x_test\n",
    "y_test = tfid_sentiment_y_test\n",
    "\n",
    "def cross_validation_split(n, n_folds):\n",
    "    #get the number of data samples in each split\n",
    "    n_val = n // n_folds\n",
    "    inds = np.random.permutation(n)\n",
    "    inds = []\n",
    "    for f in range(n_folds):\n",
    "        tr_inds = []\n",
    "        #get the validation indexes\n",
    "        val_inds = list(range(f * n_val, (f+1)*n_val))\n",
    "        #get the train indexes\n",
    "        if f > 0:\n",
    "            tr_inds = list(range(f*n_val))\n",
    "        if f < n_folds - 1:\n",
    "            tr_inds = tr_inds + list(range((f+1)*n_val, n))\n",
    "        yield tr_inds, val_inds\n",
    "        \n",
    "def kfoldCV(num_folds, x, y):\n",
    "\n",
    "  n_rest = x.shape[0]\n",
    "\n",
    "  err_test, err_valid = np.zeros(len(pseudo_list)), np.zeros((len(pseudo_list), num_folds))\n",
    "  for i, p in enumerate(pseudo_list):\n",
    "      #Find the validation errors for num_folds splits for a given K\n",
    "      for f, (tr, val) in enumerate(cross_validation_split(n_rest, num_folds)):\n",
    "        model = MultinomialNaiveBayes()\n",
    "        model = model.fit(x[tr], y[tr],p)\n",
    "        err_valid[i, f] = loss(y[val], model.predict(x[val]))\n",
    "      model = MultinomialNaiveBayes()\n",
    "      model = model.fit(x, y, p)\n",
    "      err_test[i]= loss(y_test, model.predict(x_test))\n",
    "    \n",
    "  plt.plot(pseudo_list, err_test,  label='test')\n",
    "  plt.errorbar(pseudo_list, np.mean(err_valid, axis=1), np.std(err_valid, axis=1), label='validation')\n",
    "  plt.legend()\n",
    "  plt.xlabel('pseudocounts')\n",
    "  plt.ylabel('mean squared error')\n",
    "  plt.show()\n",
    "\n",
    "kfoldCV(num_folds, x, y)"
   ]
  },
  {
   "cell_type": "markdown",
   "metadata": {
    "id": "FGefhJrpDaz-"
   },
   "source": [
    "Calculate accuracy with 100% training set ( best accuracy)"
   ]
  },
  {
   "cell_type": "code",
   "execution_count": null,
   "metadata": {
    "colab": {
     "base_uri": "https://localhost:8080/"
    },
    "executionInfo": {
     "elapsed": 1217,
     "status": "ok",
     "timestamp": 1646540071437,
     "user": {
      "displayName": "Zhao Lei",
      "photoUrl": "https://lh3.googleusercontent.com/a-/AOh14Gh1DWa6Qdwmwt03IE4RvmqODmAm0kweZtF2Iy9t=s64",
      "userId": "17545746481798427516"
     },
     "user_tz": 300
    },
    "id": "UWrGGXDaDgmq",
    "outputId": "3b6b7b2d-36de-4207-b17b-8470a768ba78"
   },
   "outputs": [
    {
     "name": "stdout",
     "output_type": "stream",
     "text": [
      "N, D, C: 100000 93761 2\n",
      "test accuracy: 0.7932960893854749\n"
     ]
    }
   ],
   "source": [
    "# chose hyperparameter = 3, with full training data\n",
    "model = MultinomialNaiveBayes()\n",
    "model.fit(count_sentiment_x_train, count_sentiment_y_train, alpha=5)\n",
    "\n",
    "#returning probabilities an array of numbers y_pred representing the class predicted for each instance\n",
    "y_pred_100 = model.predict(count_sentiment_x_test)\n",
    "acc_100 = evaluate_acc(count_sentiment_y_test, y_pred_100)"
   ]
  },
  {
   "cell_type": "markdown",
   "metadata": {
    "id": "TMvstaK4D2mg"
   },
   "source": [
    "accuracy on 20% 40% 60 and 80% of the training set"
   ]
  },
  {
   "cell_type": "code",
   "execution_count": null,
   "metadata": {
    "colab": {
     "base_uri": "https://localhost:8080/",
     "height": 435
    },
    "executionInfo": {
     "elapsed": 2282,
     "status": "ok",
     "timestamp": 1646540077215,
     "user": {
      "displayName": "Zhao Lei",
      "photoUrl": "https://lh3.googleusercontent.com/a-/AOh14Gh1DWa6Qdwmwt03IE4RvmqODmAm0kweZtF2Iy9t=s64",
      "userId": "17545746481798427516"
     },
     "user_tz": 300
    },
    "id": "zwxZHQbRDvYP",
    "outputId": "d43bd85d-b12d-44dd-db6b-c09876fa4766"
   },
   "outputs": [
    {
     "name": "stdout",
     "output_type": "stream",
     "text": [
      "N, D, C: 80000 93761 2\n",
      "test accuracy: 0.7960893854748603\n",
      "N, D, C: 60000 93761 2\n",
      "test accuracy: 0.7932960893854749\n",
      "N, D, C: 40000 93761 2\n",
      "test accuracy: 0.7849162011173184\n",
      "N, D, C: 20000 93761 2\n"
     ]
    },
    {
     "name": "stderr",
     "output_type": "stream",
     "text": [
      "No handles with labels found to put in legend.\n"
     ]
    },
    {
     "name": "stdout",
     "output_type": "stream",
     "text": [
      "test accuracy: 0.7849162011173184\n"
     ]
    },
    {
     "data": {
      "image/png": "[encoded data removed]",
      "text/plain": [
       "<Figure size 432x288 with 1 Axes>"
      ]
     },
     "metadata": {
      "needs_background": "light"
     },
     "output_type": "display_data"
    }
   ],
   "source": [
    "import numpy as np\n",
    "import matplotlib.pyplot as plt\n",
    "from IPython.core.debugger import set_trace\n",
    "import warnings\n",
    "warnings.filterwarnings('ignore')\n",
    "from sklearn import datasets, neighbors\n",
    "\n",
    "train_port = [80, 60, 40, 20]\n",
    "acc = np.zeros(len(train_port))\n",
    "\n",
    "num_instances_count = count_sentiment_x_train.shape[0]\n",
    "for i, p in enumerate(train_port):    \n",
    "  splitIndex = math.floor(num_instances_count*(p/100))\n",
    "  count_sentiment_x_train_port = count_sentiment_x_train[:splitIndex]\n",
    "  count_sentiment_y_train_port = count_sentiment_y_train[:splitIndex]\n",
    "  model = MultinomialNaiveBayes()\n",
    "  model.fit(count_sentiment_x_train_port, count_sentiment_y_train_port, alpha=5)\n",
    "  #eturning an array of numbers y_pred representing the class predicted for each instance\n",
    "  y_pred = model.predict(count_sentiment_x_test)\n",
    "  acc[i] = evaluate_acc(count_sentiment_y_test, y_pred)\n",
    "  plt.scatter(p, acc[i], marker='o');\n",
    "\n",
    "plt.scatter(100, acc_100, marker='o');\n",
    "plt.legend()\n",
    "plt.xlabel('train set percentage')\n",
    "plt.ylabel('accuracy')\n",
    "plt.grid(True) \n",
    "plt.show()"
   ]
  }
 ],
 "metadata": {
  "colab": {
   "collapsed_sections": [
    "TOVwunSOKEc5"
   ],
   "name": "T2-MultinomialBayes, HyperparameterEstimation.ipynb",
   "provenance": [
    {
     "file_id": "1tjlQYR3bLufzd9Q73IVsRJctRQLFuW4S",
     "timestamp": 1646692886419
    },
    {
     "file_id": "16lQrxupWPlX1wWegXw9LBnaxRBW5jYpT",
     "timestamp": 1646383784012
    }
   ],
   "toc_visible": true
  },
  "kernelspec": {
   "display_name": "Python 3 (ipykernel)",
   "language": "python",
   "name": "python3"
  },
  "language_info": {
   "codemirror_mode": {
    "name": "ipython",
    "version": 3
   },
   "file_extension": ".py",
   "mimetype": "text/x-python",
   "name": "python",
   "nbconvert_exporter": "python",
   "pygments_lexer": "ipython3",
   "version": "3.9.7"
  }
 },
 "nbformat": 4,
 "nbformat_minor": 1
}
